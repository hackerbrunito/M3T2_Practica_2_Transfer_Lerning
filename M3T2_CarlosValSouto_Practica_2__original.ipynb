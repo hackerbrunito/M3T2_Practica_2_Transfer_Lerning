{
  "cells": [
    {
      "cell_type": "markdown",
      "id": "e7cfb882",
      "metadata": {
        "id": "e7cfb882"
      },
      "source": [
        "# Práctica 2: Reutilización de grandes modelos neuronales"
      ]
    },
    {
      "cell_type": "markdown",
      "id": "b801bd8e",
      "metadata": {
        "id": "b801bd8e"
      },
      "source": [
        "En la segunda práctica del módulo vamos a utilizar la técnica más extendida para el uso productivo de redes neuronales: la **reutilización**, aka, **transfer learning**. Usaremos esta tecnica para dar solución al problema el cual hemos enfrentado en la práctica 1 sin mucho éxito. El dataset que vamos a utilizar es el mismo que en la Practica 1, que se puede encontrar [aquí](https://www.kaggle.com/datasets/anshtanwar/pets-facial-expression-dataset).\n",
        "\n",
        "La parte final de esta práctica tiene como objetivo enfrentar de principio a fin un caso de uso utilizando Redes Neuronales Convolucionales reutilizadas.\n",
        "\n",
        "La practica tiene **dos ejercicios**:\n",
        "\n",
        "1. Ej 1. Aprender a reutilizar modelos (5 puntos)\n",
        "2. Ej 2. Problema de clasificación end-to-end (5 pts)"
      ]
    },
    {
      "cell_type": "markdown",
      "id": "Dz19wU6dZxRE",
      "metadata": {
        "id": "Dz19wU6dZxRE"
      },
      "source": [
        "### Objetivos\n",
        "\n",
        "Los objetivos esta primera práctica son los siguientes:\n",
        "- Reutilización de modelos y su adaptación a problemas concretos.\n",
        "- Utilización de técnicas de *data augmentation* utilizando PyTorch.\n",
        "- Utilización de modelos y pesos pre-entrenados de PyTorch.\n",
        "- Enfrentar un problema de reutilización desde el principio hasta el final.\n",
        "\n",
        "\n"
      ]
    },
    {
      "cell_type": "markdown",
      "id": "jteHjSe-Zyz6",
      "metadata": {
        "id": "jteHjSe-Zyz6"
      },
      "source": [
        "### Consideraciones generales en el uso de Notebooks\n",
        "- Asegúrate de que todo el código necesario para ejecutarlo completamente está disponible.\n",
        "- Asegúrate de usar un orden lógico de ejecución de celdas para permitir una ejecución completa y automática. El Notebook debe poder funcionar perfectamente simplemente lanzando la opción \"Restart & Run All\" de la sección \"Kernel\". Cuidado con instanciar variables o métodos en celdas posteriores a las cuales están utilizadas, una ejecución independiente y manual puede hacer que funcione, pero la ejecución automática fallará.\n",
        "- Asegúrate de utilizar las celdas de tipo \"Markdown\" para texto y las de \"Code\" para código. Combinar distintos tipos de celda ayuda a la explicabilidad de la resolución y a la limpieza en general.\n",
        "- Puedes crear celdas adicionales si lo necesitas.\n",
        "- A la hora de la entrega del Notebook definitivo, asegúrate que lo entregas ejecutado y con las salidas de las celdas guardadas. Esto será necesario para la generación del PDF de entrega.\n",
        "- El código cuanto más comentado mejor. Además, cualquier reflexión adicional siempre será bienvenida."
      ]
    },
    {
      "cell_type": "markdown",
      "id": "102a4ceb",
      "metadata": {
        "id": "102a4ceb"
      },
      "source": [
        "## Ej 1. Aprender a reutilizar modelos (5 puntos)\n",
        "\n",
        "El objetivo de la práctica de esta semana será utilizar otra estrategia enfrentar el problema que venimos arrastrando de la primera actividad: la clasificación de emociones en imágenes de animales.\n",
        "\n",
        "Como pudiste observar, diseñar una red neuronal convencional y adaptar los datos para su uso resultó en un rendimiento muy pobre: no logró aprender y sus predicciones se daban practicamente al  azar. Posteriormente, utilizamos una arquitectura convencional, concretamente una AlexNet, para intentar mejorar el rendimiento. El resultado, de nuevo, dejó mucho que desear.\n",
        "\n",
        "No sé si te has parado a analizar el problema que estamos enfrentando. ¿Has visto las fotos de los animales? ¿Sabrías decir si los pájaros están tristes, contentos...? En definitiva, es un problema complicado de resolver. Además, como recordarás de la teoría, las redes neuronales exigen muchos datos para ser entrenadas, más aún si hay que enfrentar un problema complejo como este. ¿Cuál es la realidad?, que únicamente contamos con 1000 imágenes para entrenar... ya hemos visto que no son suficientes para entrenar redes neuronales.\n",
        "\n",
        "Llegados a este punto, existen dos opciones que pueden ser perfectamente complementarias:\n",
        "1.  **Obtener más datos**. El problema es que no siempre es sencillo (ni barato). Para lograr obtener más datos la solución alternativa pasa por utilizar técnicas de *data augmentation*. Por ejemplo, se pueden utilizar modelos generativos (desde GANs hasta modelos de difusion como DALLE-2), o utilizar modelos de Style Transfer para generar variantes estilísticas de una misma imagen. Una alternativa muy comun y facil de implementar para *data augmentation* consiste en realizar **transformaciones a las imagenes**. Con más datos, podremos nutrir nuestro conjunto de entrenamiento y, casi con total seguridad, mejoraremos el rendimiento de nuestras redes. El problema es, ¿cuántos datos son suficientes? La respuesta: muchos. Y más aún si queremos entrenar una red desde 0.\n",
        "\n",
        "2.  **Utilizar Transfer Learning**. Podemos reutilizar tanto la arquitectura como los pesos de un modelo entrenado con buenas métricas para adaptarlo a nuestro problema en concreto y, con eso, solventar parcialmente la falta de datos.\n",
        "\n",
        "En esta practica vamos a desarrollar **la segunda opción**, ya que suele ser la más viable en problemas \"reales\". Ademas, si queremos aplicar data augmentation usando transformaciones, necesitaremos entrenar el modelo mas epochs. Esto es porque PyTorch cambia el contenido de cada imagen en cada época, no aumenta el\n",
        "tamaño del dataset directamente. Dejo como **ejercicio voluntario** el intentar aumentar el conjunto de datos para mejorar aún más el rendimiento de alguno de los modelos, teniendo en cuenta que habra que entrenar durante mas epochs.\n",
        "\n",
        "\n"
      ]
    },
    {
      "cell_type": "markdown",
      "id": "owTz2_yBfoxA",
      "metadata": {
        "id": "owTz2_yBfoxA"
      },
      "source": [
        "### Importar las librerias necesarias\n"
      ]
    },
    {
      "cell_type": "markdown",
      "id": "bb6f662c",
      "metadata": {},
      "source": [
        "### HOLA, ¿qué tal?\n",
        "\n",
        "## esto es un comentario para probar el commit de GitHub...."
      ]
    },
    {
      "cell_type": "code",
      "execution_count": 2,
      "id": "3dcf7d2b",
      "metadata": {
        "id": "3dcf7d2b"
      },
      "outputs": [],
      "source": [
        "import torch, torchvision\n",
        "from torch import nn, optim\n",
        "from torch.utils.data import Dataset\n",
        "from torchvision import datasets, transforms\n",
        "import os"
      ]
    },
    {
      "cell_type": "code",
      "execution_count": null,
      "id": "06d7be32",
      "metadata": {
        "id": "06d7be32"
      },
      "outputs": [
        {
          "name": "stdout",
          "output_type": "stream",
          "text": [
            "cpu\n"
          ]
        }
      ],
      "source": [
        "device = torch.device(\"cuda\" if torch.cuda.is_available() else \"cpu\")\n",
        "\n",
        "print(device)"
      ]
    },
    {
      "cell_type": "markdown",
      "id": "H2Z44bB4ksDp",
      "metadata": {
        "id": "H2Z44bB4ksDp"
      },
      "source": [
        "### Ej 1.1: Carga de datos y modelo (0.5 puntos)\n",
        "\n",
        "Los datos que vamos a utilizar serán los mismos que en la Práctica 1, que los tienes disponibles [aqui](https://www.kaggle.com/datasets/anshtanwar/pets-facial-expression-dataset). Como opción alternativa a la descarga en local, se pueden tambien cargar en cache como se ofreció en la Practica 1:\n"
      ]
    },
    {
      "cell_type": "code",
      "execution_count": 6,
      "id": "Yy0z0Ecxktfw",
      "metadata": {
        "id": "Yy0z0Ecxktfw"
      },
      "outputs": [
        {
          "name": "stdout",
          "output_type": "stream",
          "text": [
            "Path to dataset files: C:\\Users\\Carlos\\.cache\\kagglehub\\datasets\\anshtanwar\\pets-facial-expression-dataset\\versions\\11\n"
          ]
        }
      ],
      "source": [
        "import kagglehub\n",
        "\n",
        "# Download latest version\n",
        "path = kagglehub.dataset_download(\"anshtanwar/pets-facial-expression-dataset\")\n",
        "\n",
        "print(\"Path to dataset files:\", path)"
      ]
    },
    {
      "cell_type": "markdown",
      "id": "a9630e88",
      "metadata": {
        "id": "a9630e88"
      },
      "source": [
        "\n",
        "La diferencia reside en que en la Práctica 1, las transformaciones aplicadas sobre las imágenes en bruto (variable *transformations*) era diseñada por nosotros. En este caso, dado que vamos a utilizar un modelo pre-entrenado, habrá que adaptarse al formato de dato que espera el modelo para unos pesos en concreto. Dependiendo del diseño de la fuente de donde se carguen los modelos, las transformaciones se pueden obtener de distinta forma.\n",
        "\n",
        "En este caso, vamos a hacer uso de los modelos que Torchvision ofrece de forma nativa, que tenéis disponibles [aqui](https://pytorch.org/vision/stable/models.html). Concretamente, vamos a utilizar:\n",
        "\n",
        "- Un modelo **Efficient Net B1**.\n",
        "- Como pesos, la segunda versión (v2) de los entrenados sobre IMAGENET1K.\n",
        "\n",
        "En el caso de Torchvision, las transformaciones se pueden localizar en el atributo *transforms* de los pesos. Para recuperar el pipeline completo de pre-procesamiento, se puede hacer uso de `weights.transforms()`."
      ]
    },
    {
      "cell_type": "code",
      "execution_count": 53,
      "id": "fd2c3622",
      "metadata": {
        "id": "fd2c3622"
      },
      "outputs": [
        {
          "name": "stdout",
          "output_type": "stream",
          "text": [
            "Modelo cargado: EfficientNet B1 - v2\n",
            "Pesos utilizados: EfficientNet_B1_Weights.IMAGENET1K_V2\n",
            "Transformaciones obtenidas automáticamente:\n",
            "\n",
            " ImageClassification(\n",
            "    crop_size=[240]\n",
            "    resize_size=[255]\n",
            "    mean=[0.485, 0.456, 0.406]\n",
            "    std=[0.229, 0.224, 0.225]\n",
            "    interpolation=InterpolationMode.BILINEAR\n",
            ")\n",
            "\n"
          ]
        }
      ],
      "source": [
        "# Importar los pesos específicos de EfficientNet B1 v2\n",
        "from torchvision.models import efficientnet_b1, EfficientNet_B1_Weights\n",
        "\n",
        "weights = EfficientNet_B1_Weights.IMAGENET1K_V2 # Completar\n",
        "model = efficientnet_b1(weights=weights) # Completar\n",
        "transformation = weights.transforms()\n",
        "\n",
        "model = model.to(device)\n",
        "\n",
        "print(f\"Modelo cargado: EfficientNet B1 - v2\")\n",
        "print(f\"Pesos utilizados: {weights}\")\n",
        "print(f\"Transformaciones obtenidas automáticamente:\\n\\n {transformation}\\n\")"
      ]
    },
    {
      "cell_type": "code",
      "execution_count": 54,
      "id": "10bd1f2c",
      "metadata": {},
      "outputs": [
        {
          "name": "stdout",
          "output_type": "stream",
          "text": [
            "=> Angry/\n",
            "=> happy/\n",
            "=> Master Folder/\n",
            "     => test/\n",
            "     => train/\n",
            "     => valid/\n",
            "=> Other/\n",
            "=> Sad/\n"
          ]
        }
      ],
      "source": [
        "import os\n",
        "\n",
        "dataset_base = r\"C:\\Users\\Carlos\\.cache\\kagglehub\\datasets\\anshtanwar\\pets-facial-expression-dataset\\versions\\11\"\n",
        "\n",
        "for item in os.listdir(dataset_base):\n",
        "   item_path = os.path.join(dataset_base, item)\n",
        "   if os.path.isdir(item_path):\n",
        "       print(f\"=> {item}/\")\n",
        "       # Ver subdirectorios\n",
        "       for sub_item in os.listdir(item_path):\n",
        "           sub_path = os.path.join(item_path, sub_item)\n",
        "           if os.path.isdir(sub_path):\n",
        "               print(f\"     => {sub_item}/\")"
      ]
    },
    {
      "cell_type": "markdown",
      "id": "4419e751",
      "metadata": {
        "id": "4419e751"
      },
      "source": [
        "Ya podemos entonces crear las instancias de **Dataset** para los tres conjuntos: `train_dataset`, `validation_dataset` y `test_dataset`. ¡No olvides aplicar las transformaciones recuperadas anteriormente!"
      ]
    },
    {
      "cell_type": "code",
      "execution_count": 55,
      "id": "f8e3dd06",
      "metadata": {
        "id": "f8e3dd06"
      },
      "outputs": [
        {
          "name": "stdout",
          "output_type": "stream",
          "text": [
            "Dataset de entrenamiento: 1000 imágenes.\n",
            "Dataset de validación: 36 imágenes.\n",
            "Dataset de test: 38 imágenes.\n",
            "El dataset contiene '4' clases  > >> ['Angry', 'Other', 'Sad', 'happy'] \n"
          ]
        }
      ],
      "source": [
        "# Path de kagglehub para la ubicación de los datos.\n",
        "data_path = r\"C:\\Users\\Carlos\\.cache\\kagglehub\\datasets\\anshtanwar\\pets-facial-expression-dataset\\versions\\11\\Master Folder\"\n",
        "\n",
        "# Crear los datasets con las transformaciones del modelo pre-entrenado\n",
        "train_dataset = datasets.ImageFolder(\n",
        "    root=os.path.join(data_path, 'train'),\n",
        "    transform=transformation\n",
        ")\n",
        "validation_dataset = datasets.ImageFolder(\n",
        "    root=os.path.join(data_path, 'valid'),\n",
        "    transform=transformation\n",
        ")\n",
        "test_dataset = datasets.ImageFolder(\n",
        "    root=os.path.join(data_path, 'test'),\n",
        "    transform=transformation\n",
        ")\n",
        "\n",
        "print(f\"Dataset de entrenamiento: {len(train_dataset)} imágenes.\")\n",
        "print(f\"Dataset de validación: {len(validation_dataset)} imágenes.\")\n",
        "print(f\"Dataset de test: {len(test_dataset)} imágenes.\")\n",
        "print(f\"El dataset contiene '{len(train_dataset.classes)}' clases  > >> {train_dataset.classes} \")\n",
        "# print(f\"Numero de clases: {len(train_dataset.classes)}\")"
      ]
    },
    {
      "cell_type": "markdown",
      "id": "3abec152",
      "metadata": {
        "id": "3abec152"
      },
      "source": [
        "Creamos los **DataLoader** correspondientes a cada **Dataset**: `train_dataloader`, `validation_dataloader` y `test_dataloader`. Utilizaremos para todos ellos `batch_size` de 64, con el objetivo de agilizar el entrenamiento, y mezcla en los datos."
      ]
    },
    {
      "cell_type": "code",
      "execution_count": 60,
      "id": "2e6fef3b",
      "metadata": {
        "id": "2e6fef3b"
      },
      "outputs": [],
      "source": [
        "from torch.utils.data import DataLoader"
      ]
    },
    {
      "cell_type": "code",
      "execution_count": 61,
      "id": "3b71a966",
      "metadata": {
        "id": "3b71a966"
      },
      "outputs": [
        {
          "name": "stdout",
          "output_type": "stream",
          "text": [
            "DataLoaders creados:\n",
            "- Train: 16 batches de 64\n",
            "- Validation: 1 batches de 64\n",
            "- Test: 1 batches de 64\n"
          ]
        }
      ],
      "source": [
        "\n",
        "# Configurar parámetros de carga\n",
        "batch_size = 64  # Tamaño de batch \n",
        "num_workers = 4  # Núcleos de CPU para cargar datos en paralelo\n",
        "\n",
        "# Crear los DataLoaders\n",
        "train_loader = DataLoader(\n",
        "    train_dataset,\n",
        "    batch_size=batch_size,\n",
        "    shuffle=True,        # Mezclar datos de entrenamiento\n",
        "    num_workers=num_workers,\n",
        "    pin_memory=True      # Optimización para GPU\n",
        ")\n",
        "\n",
        "validation_loader = DataLoader(\n",
        "    validation_dataset,\n",
        "    batch_size=batch_size,\n",
        "    shuffle=False,       # No mezclar validación (orden no importa)\n",
        "    num_workers=num_workers,\n",
        "    pin_memory=True\n",
        ")\n",
        "\n",
        "test_loader = DataLoader(\n",
        "    test_dataset,\n",
        "    batch_size=batch_size,\n",
        "    shuffle=False,       # No mezclar test\n",
        "    num_workers=num_workers,\n",
        "    pin_memory=True\n",
        ")\n",
        "\n",
        "print(f\"DataLoaders creados:\")\n",
        "print(f\"- Train: {len(train_loader)} batches de {batch_size}\")\n",
        "print(f\"- Validation: {len(validation_loader)} batches de {batch_size}\")\n",
        "print(f\"- Test: {len(test_loader)} batches de {batch_size}\")"
      ]
    },
    {
      "cell_type": "markdown",
      "id": "e1280bba",
      "metadata": {
        "id": "e1280bba"
      },
      "source": [
        "### Ej 1.2: Adaptación del modelo (2 puntos)\n",
        "\n",
        "Los pesos que hemos seleccionado han sido entrenados utilizando IMAGENET en su versión con 1000 etiquetas. Nuestro problema es diferente, por lo que tendremos que adaptar el modelo.\n",
        "\n",
        "El objetivo será \"congelar\" toda la parte convolucional del modelo, es decir, el extractor de características. Congelar implica que los parámetros no se entrenen, por dos motivos:\n",
        "- No queremos \"ensuciar\" el entrenamiento que se ha realizado.\n",
        "- No tenemos recursos suficientes para entrenar una red con este número de parámetros.\n",
        "\n",
        "Posteriormente, modificaremos el clasificador para adaptar el modelo a nuestro problema."
      ]
    },
    {
      "cell_type": "markdown",
      "id": "6c5c6a51",
      "metadata": {
        "id": "6c5c6a51"
      },
      "source": [
        "Muestra la arquitectura del modelo cargado:"
      ]
    },
    {
      "cell_type": "code",
      "execution_count": 75,
      "id": "2ebab975",
      "metadata": {
        "id": "2ebab975"
      },
      "outputs": [
        {
          "name": "stdout",
          "output_type": "stream",
          "text": [
            "Arquitectura completa del modelo EfficientNet B1:\n",
            "EfficientNet(\n",
            "  (features): Sequential(\n",
            "    (0): Conv2dNormActivation(\n",
            "      (0): Conv2d(3, 32, kernel_size=(3, 3), stride=(2, 2), padding=(1, 1), bias=False)\n",
            "      (1): BatchNorm2d(32, eps=1e-05, momentum=0.1, affine=True, track_running_stats=True)\n",
            "      (2): SiLU(inplace=True)\n",
            "    )\n",
            "    (1): Sequential(\n",
            "      (0): MBConv(\n",
            "        (block): Sequential(\n",
            "          (0): Conv2dNormActivation(\n",
            "            (0): Conv2d(32, 32, kernel_size=(3, 3), stride=(1, 1), padding=(1, 1), groups=32, bias=False)\n",
            "            (1): BatchNorm2d(32, eps=1e-05, momentum=0.1, affine=True, track_running_stats=True)\n",
            "            (2): SiLU(inplace=True)\n",
            "          )\n",
            "          (1): SqueezeExcitation(\n",
            "            (avgpool): AdaptiveAvgPool2d(output_size=1)\n",
            "            (fc1): Conv2d(32, 8, kernel_size=(1, 1), stride=(1, 1))\n",
            "            (fc2): Conv2d(8, 32, kernel_size=(1, 1), stride=(1, 1))\n",
            "            (activation): SiLU(inplace=True)\n",
            "            (scale_activation): Sigmoid()\n",
            "          )\n",
            "          (2): Conv2dNormActivation(\n",
            "            (0): Conv2d(32, 16, kernel_size=(1, 1), stride=(1, 1), bias=False)\n",
            "            (1): BatchNorm2d(16, eps=1e-05, momentum=0.1, affine=True, track_running_stats=True)\n",
            "          )\n",
            "        )\n",
            "        (stochastic_depth): StochasticDepth(p=0.0, mode=row)\n",
            "      )\n",
            "      (1): MBConv(\n",
            "        (block): Sequential(\n",
            "          (0): Conv2dNormActivation(\n",
            "            (0): Conv2d(16, 16, kernel_size=(3, 3), stride=(1, 1), padding=(1, 1), groups=16, bias=False)\n",
            "            (1): BatchNorm2d(16, eps=1e-05, momentum=0.1, affine=True, track_running_stats=True)\n",
            "            (2): SiLU(inplace=True)\n",
            "          )\n",
            "          (1): SqueezeExcitation(\n",
            "            (avgpool): AdaptiveAvgPool2d(output_size=1)\n",
            "            (fc1): Conv2d(16, 4, kernel_size=(1, 1), stride=(1, 1))\n",
            "            (fc2): Conv2d(4, 16, kernel_size=(1, 1), stride=(1, 1))\n",
            "            (activation): SiLU(inplace=True)\n",
            "            (scale_activation): Sigmoid()\n",
            "          )\n",
            "          (2): Conv2dNormActivation(\n",
            "            (0): Conv2d(16, 16, kernel_size=(1, 1), stride=(1, 1), bias=False)\n",
            "            (1): BatchNorm2d(16, eps=1e-05, momentum=0.1, affine=True, track_running_stats=True)\n",
            "          )\n",
            "        )\n",
            "        (stochastic_depth): StochasticDepth(p=0.008695652173913044, mode=row)\n",
            "      )\n",
            "    )\n",
            "    (2): Sequential(\n",
            "      (0): MBConv(\n",
            "        (block): Sequential(\n",
            "          (0): Conv2dNormActivation(\n",
            "            (0): Conv2d(16, 96, kernel_size=(1, 1), stride=(1, 1), bias=False)\n",
            "            (1): BatchNorm2d(96, eps=1e-05, momentum=0.1, affine=True, track_running_stats=True)\n",
            "            (2): SiLU(inplace=True)\n",
            "          )\n",
            "          (1): Conv2dNormActivation(\n",
            "            (0): Conv2d(96, 96, kernel_size=(3, 3), stride=(2, 2), padding=(1, 1), groups=96, bias=False)\n",
            "            (1): BatchNorm2d(96, eps=1e-05, momentum=0.1, affine=True, track_running_stats=True)\n",
            "            (2): SiLU(inplace=True)\n",
            "          )\n",
            "          (2): SqueezeExcitation(\n",
            "            (avgpool): AdaptiveAvgPool2d(output_size=1)\n",
            "            (fc1): Conv2d(96, 4, kernel_size=(1, 1), stride=(1, 1))\n",
            "            (fc2): Conv2d(4, 96, kernel_size=(1, 1), stride=(1, 1))\n",
            "            (activation): SiLU(inplace=True)\n",
            "            (scale_activation): Sigmoid()\n",
            "          )\n",
            "          (3): Conv2dNormActivation(\n",
            "            (0): Conv2d(96, 24, kernel_size=(1, 1), stride=(1, 1), bias=False)\n",
            "            (1): BatchNorm2d(24, eps=1e-05, momentum=0.1, affine=True, track_running_stats=True)\n",
            "          )\n",
            "        )\n",
            "        (stochastic_depth): StochasticDepth(p=0.017391304347826087, mode=row)\n",
            "      )\n",
            "      (1): MBConv(\n",
            "        (block): Sequential(\n",
            "          (0): Conv2dNormActivation(\n",
            "            (0): Conv2d(24, 144, kernel_size=(1, 1), stride=(1, 1), bias=False)\n",
            "            (1): BatchNorm2d(144, eps=1e-05, momentum=0.1, affine=True, track_running_stats=True)\n",
            "            (2): SiLU(inplace=True)\n",
            "          )\n",
            "          (1): Conv2dNormActivation(\n",
            "            (0): Conv2d(144, 144, kernel_size=(3, 3), stride=(1, 1), padding=(1, 1), groups=144, bias=False)\n",
            "            (1): BatchNorm2d(144, eps=1e-05, momentum=0.1, affine=True, track_running_stats=True)\n",
            "            (2): SiLU(inplace=True)\n",
            "          )\n",
            "          (2): SqueezeExcitation(\n",
            "            (avgpool): AdaptiveAvgPool2d(output_size=1)\n",
            "            (fc1): Conv2d(144, 6, kernel_size=(1, 1), stride=(1, 1))\n",
            "            (fc2): Conv2d(6, 144, kernel_size=(1, 1), stride=(1, 1))\n",
            "            (activation): SiLU(inplace=True)\n",
            "            (scale_activation): Sigmoid()\n",
            "          )\n",
            "          (3): Conv2dNormActivation(\n",
            "            (0): Conv2d(144, 24, kernel_size=(1, 1), stride=(1, 1), bias=False)\n",
            "            (1): BatchNorm2d(24, eps=1e-05, momentum=0.1, affine=True, track_running_stats=True)\n",
            "          )\n",
            "        )\n",
            "        (stochastic_depth): StochasticDepth(p=0.026086956521739136, mode=row)\n",
            "      )\n",
            "      (2): MBConv(\n",
            "        (block): Sequential(\n",
            "          (0): Conv2dNormActivation(\n",
            "            (0): Conv2d(24, 144, kernel_size=(1, 1), stride=(1, 1), bias=False)\n",
            "            (1): BatchNorm2d(144, eps=1e-05, momentum=0.1, affine=True, track_running_stats=True)\n",
            "            (2): SiLU(inplace=True)\n",
            "          )\n",
            "          (1): Conv2dNormActivation(\n",
            "            (0): Conv2d(144, 144, kernel_size=(3, 3), stride=(1, 1), padding=(1, 1), groups=144, bias=False)\n",
            "            (1): BatchNorm2d(144, eps=1e-05, momentum=0.1, affine=True, track_running_stats=True)\n",
            "            (2): SiLU(inplace=True)\n",
            "          )\n",
            "          (2): SqueezeExcitation(\n",
            "            (avgpool): AdaptiveAvgPool2d(output_size=1)\n",
            "            (fc1): Conv2d(144, 6, kernel_size=(1, 1), stride=(1, 1))\n",
            "            (fc2): Conv2d(6, 144, kernel_size=(1, 1), stride=(1, 1))\n",
            "            (activation): SiLU(inplace=True)\n",
            "            (scale_activation): Sigmoid()\n",
            "          )\n",
            "          (3): Conv2dNormActivation(\n",
            "            (0): Conv2d(144, 24, kernel_size=(1, 1), stride=(1, 1), bias=False)\n",
            "            (1): BatchNorm2d(24, eps=1e-05, momentum=0.1, affine=True, track_running_stats=True)\n",
            "          )\n",
            "        )\n",
            "        (stochastic_depth): StochasticDepth(p=0.034782608695652174, mode=row)\n",
            "      )\n",
            "    )\n",
            "    (3): Sequential(\n",
            "      (0): MBConv(\n",
            "        (block): Sequential(\n",
            "          (0): Conv2dNormActivation(\n",
            "            (0): Conv2d(24, 144, kernel_size=(1, 1), stride=(1, 1), bias=False)\n",
            "            (1): BatchNorm2d(144, eps=1e-05, momentum=0.1, affine=True, track_running_stats=True)\n",
            "            (2): SiLU(inplace=True)\n",
            "          )\n",
            "          (1): Conv2dNormActivation(\n",
            "            (0): Conv2d(144, 144, kernel_size=(5, 5), stride=(2, 2), padding=(2, 2), groups=144, bias=False)\n",
            "            (1): BatchNorm2d(144, eps=1e-05, momentum=0.1, affine=True, track_running_stats=True)\n",
            "            (2): SiLU(inplace=True)\n",
            "          )\n",
            "          (2): SqueezeExcitation(\n",
            "            (avgpool): AdaptiveAvgPool2d(output_size=1)\n",
            "            (fc1): Conv2d(144, 6, kernel_size=(1, 1), stride=(1, 1))\n",
            "            (fc2): Conv2d(6, 144, kernel_size=(1, 1), stride=(1, 1))\n",
            "            (activation): SiLU(inplace=True)\n",
            "            (scale_activation): Sigmoid()\n",
            "          )\n",
            "          (3): Conv2dNormActivation(\n",
            "            (0): Conv2d(144, 40, kernel_size=(1, 1), stride=(1, 1), bias=False)\n",
            "            (1): BatchNorm2d(40, eps=1e-05, momentum=0.1, affine=True, track_running_stats=True)\n",
            "          )\n",
            "        )\n",
            "        (stochastic_depth): StochasticDepth(p=0.043478260869565216, mode=row)\n",
            "      )\n",
            "      (1): MBConv(\n",
            "        (block): Sequential(\n",
            "          (0): Conv2dNormActivation(\n",
            "            (0): Conv2d(40, 240, kernel_size=(1, 1), stride=(1, 1), bias=False)\n",
            "            (1): BatchNorm2d(240, eps=1e-05, momentum=0.1, affine=True, track_running_stats=True)\n",
            "            (2): SiLU(inplace=True)\n",
            "          )\n",
            "          (1): Conv2dNormActivation(\n",
            "            (0): Conv2d(240, 240, kernel_size=(5, 5), stride=(1, 1), padding=(2, 2), groups=240, bias=False)\n",
            "            (1): BatchNorm2d(240, eps=1e-05, momentum=0.1, affine=True, track_running_stats=True)\n",
            "            (2): SiLU(inplace=True)\n",
            "          )\n",
            "          (2): SqueezeExcitation(\n",
            "            (avgpool): AdaptiveAvgPool2d(output_size=1)\n",
            "            (fc1): Conv2d(240, 10, kernel_size=(1, 1), stride=(1, 1))\n",
            "            (fc2): Conv2d(10, 240, kernel_size=(1, 1), stride=(1, 1))\n",
            "            (activation): SiLU(inplace=True)\n",
            "            (scale_activation): Sigmoid()\n",
            "          )\n",
            "          (3): Conv2dNormActivation(\n",
            "            (0): Conv2d(240, 40, kernel_size=(1, 1), stride=(1, 1), bias=False)\n",
            "            (1): BatchNorm2d(40, eps=1e-05, momentum=0.1, affine=True, track_running_stats=True)\n",
            "          )\n",
            "        )\n",
            "        (stochastic_depth): StochasticDepth(p=0.05217391304347827, mode=row)\n",
            "      )\n",
            "      (2): MBConv(\n",
            "        (block): Sequential(\n",
            "          (0): Conv2dNormActivation(\n",
            "            (0): Conv2d(40, 240, kernel_size=(1, 1), stride=(1, 1), bias=False)\n",
            "            (1): BatchNorm2d(240, eps=1e-05, momentum=0.1, affine=True, track_running_stats=True)\n",
            "            (2): SiLU(inplace=True)\n",
            "          )\n",
            "          (1): Conv2dNormActivation(\n",
            "            (0): Conv2d(240, 240, kernel_size=(5, 5), stride=(1, 1), padding=(2, 2), groups=240, bias=False)\n",
            "            (1): BatchNorm2d(240, eps=1e-05, momentum=0.1, affine=True, track_running_stats=True)\n",
            "            (2): SiLU(inplace=True)\n",
            "          )\n",
            "          (2): SqueezeExcitation(\n",
            "            (avgpool): AdaptiveAvgPool2d(output_size=1)\n",
            "            (fc1): Conv2d(240, 10, kernel_size=(1, 1), stride=(1, 1))\n",
            "            (fc2): Conv2d(10, 240, kernel_size=(1, 1), stride=(1, 1))\n",
            "            (activation): SiLU(inplace=True)\n",
            "            (scale_activation): Sigmoid()\n",
            "          )\n",
            "          (3): Conv2dNormActivation(\n",
            "            (0): Conv2d(240, 40, kernel_size=(1, 1), stride=(1, 1), bias=False)\n",
            "            (1): BatchNorm2d(40, eps=1e-05, momentum=0.1, affine=True, track_running_stats=True)\n",
            "          )\n",
            "        )\n",
            "        (stochastic_depth): StochasticDepth(p=0.06086956521739131, mode=row)\n",
            "      )\n",
            "    )\n",
            "    (4): Sequential(\n",
            "      (0): MBConv(\n",
            "        (block): Sequential(\n",
            "          (0): Conv2dNormActivation(\n",
            "            (0): Conv2d(40, 240, kernel_size=(1, 1), stride=(1, 1), bias=False)\n",
            "            (1): BatchNorm2d(240, eps=1e-05, momentum=0.1, affine=True, track_running_stats=True)\n",
            "            (2): SiLU(inplace=True)\n",
            "          )\n",
            "          (1): Conv2dNormActivation(\n",
            "            (0): Conv2d(240, 240, kernel_size=(3, 3), stride=(2, 2), padding=(1, 1), groups=240, bias=False)\n",
            "            (1): BatchNorm2d(240, eps=1e-05, momentum=0.1, affine=True, track_running_stats=True)\n",
            "            (2): SiLU(inplace=True)\n",
            "          )\n",
            "          (2): SqueezeExcitation(\n",
            "            (avgpool): AdaptiveAvgPool2d(output_size=1)\n",
            "            (fc1): Conv2d(240, 10, kernel_size=(1, 1), stride=(1, 1))\n",
            "            (fc2): Conv2d(10, 240, kernel_size=(1, 1), stride=(1, 1))\n",
            "            (activation): SiLU(inplace=True)\n",
            "            (scale_activation): Sigmoid()\n",
            "          )\n",
            "          (3): Conv2dNormActivation(\n",
            "            (0): Conv2d(240, 80, kernel_size=(1, 1), stride=(1, 1), bias=False)\n",
            "            (1): BatchNorm2d(80, eps=1e-05, momentum=0.1, affine=True, track_running_stats=True)\n",
            "          )\n",
            "        )\n",
            "        (stochastic_depth): StochasticDepth(p=0.06956521739130435, mode=row)\n",
            "      )\n",
            "      (1): MBConv(\n",
            "        (block): Sequential(\n",
            "          (0): Conv2dNormActivation(\n",
            "            (0): Conv2d(80, 480, kernel_size=(1, 1), stride=(1, 1), bias=False)\n",
            "            (1): BatchNorm2d(480, eps=1e-05, momentum=0.1, affine=True, track_running_stats=True)\n",
            "            (2): SiLU(inplace=True)\n",
            "          )\n",
            "          (1): Conv2dNormActivation(\n",
            "            (0): Conv2d(480, 480, kernel_size=(3, 3), stride=(1, 1), padding=(1, 1), groups=480, bias=False)\n",
            "            (1): BatchNorm2d(480, eps=1e-05, momentum=0.1, affine=True, track_running_stats=True)\n",
            "            (2): SiLU(inplace=True)\n",
            "          )\n",
            "          (2): SqueezeExcitation(\n",
            "            (avgpool): AdaptiveAvgPool2d(output_size=1)\n",
            "            (fc1): Conv2d(480, 20, kernel_size=(1, 1), stride=(1, 1))\n",
            "            (fc2): Conv2d(20, 480, kernel_size=(1, 1), stride=(1, 1))\n",
            "            (activation): SiLU(inplace=True)\n",
            "            (scale_activation): Sigmoid()\n",
            "          )\n",
            "          (3): Conv2dNormActivation(\n",
            "            (0): Conv2d(480, 80, kernel_size=(1, 1), stride=(1, 1), bias=False)\n",
            "            (1): BatchNorm2d(80, eps=1e-05, momentum=0.1, affine=True, track_running_stats=True)\n",
            "          )\n",
            "        )\n",
            "        (stochastic_depth): StochasticDepth(p=0.0782608695652174, mode=row)\n",
            "      )\n",
            "      (2): MBConv(\n",
            "        (block): Sequential(\n",
            "          (0): Conv2dNormActivation(\n",
            "            (0): Conv2d(80, 480, kernel_size=(1, 1), stride=(1, 1), bias=False)\n",
            "            (1): BatchNorm2d(480, eps=1e-05, momentum=0.1, affine=True, track_running_stats=True)\n",
            "            (2): SiLU(inplace=True)\n",
            "          )\n",
            "          (1): Conv2dNormActivation(\n",
            "            (0): Conv2d(480, 480, kernel_size=(3, 3), stride=(1, 1), padding=(1, 1), groups=480, bias=False)\n",
            "            (1): BatchNorm2d(480, eps=1e-05, momentum=0.1, affine=True, track_running_stats=True)\n",
            "            (2): SiLU(inplace=True)\n",
            "          )\n",
            "          (2): SqueezeExcitation(\n",
            "            (avgpool): AdaptiveAvgPool2d(output_size=1)\n",
            "            (fc1): Conv2d(480, 20, kernel_size=(1, 1), stride=(1, 1))\n",
            "            (fc2): Conv2d(20, 480, kernel_size=(1, 1), stride=(1, 1))\n",
            "            (activation): SiLU(inplace=True)\n",
            "            (scale_activation): Sigmoid()\n",
            "          )\n",
            "          (3): Conv2dNormActivation(\n",
            "            (0): Conv2d(480, 80, kernel_size=(1, 1), stride=(1, 1), bias=False)\n",
            "            (1): BatchNorm2d(80, eps=1e-05, momentum=0.1, affine=True, track_running_stats=True)\n",
            "          )\n",
            "        )\n",
            "        (stochastic_depth): StochasticDepth(p=0.08695652173913043, mode=row)\n",
            "      )\n",
            "      (3): MBConv(\n",
            "        (block): Sequential(\n",
            "          (0): Conv2dNormActivation(\n",
            "            (0): Conv2d(80, 480, kernel_size=(1, 1), stride=(1, 1), bias=False)\n",
            "            (1): BatchNorm2d(480, eps=1e-05, momentum=0.1, affine=True, track_running_stats=True)\n",
            "            (2): SiLU(inplace=True)\n",
            "          )\n",
            "          (1): Conv2dNormActivation(\n",
            "            (0): Conv2d(480, 480, kernel_size=(3, 3), stride=(1, 1), padding=(1, 1), groups=480, bias=False)\n",
            "            (1): BatchNorm2d(480, eps=1e-05, momentum=0.1, affine=True, track_running_stats=True)\n",
            "            (2): SiLU(inplace=True)\n",
            "          )\n",
            "          (2): SqueezeExcitation(\n",
            "            (avgpool): AdaptiveAvgPool2d(output_size=1)\n",
            "            (fc1): Conv2d(480, 20, kernel_size=(1, 1), stride=(1, 1))\n",
            "            (fc2): Conv2d(20, 480, kernel_size=(1, 1), stride=(1, 1))\n",
            "            (activation): SiLU(inplace=True)\n",
            "            (scale_activation): Sigmoid()\n",
            "          )\n",
            "          (3): Conv2dNormActivation(\n",
            "            (0): Conv2d(480, 80, kernel_size=(1, 1), stride=(1, 1), bias=False)\n",
            "            (1): BatchNorm2d(80, eps=1e-05, momentum=0.1, affine=True, track_running_stats=True)\n",
            "          )\n",
            "        )\n",
            "        (stochastic_depth): StochasticDepth(p=0.09565217391304348, mode=row)\n",
            "      )\n",
            "    )\n",
            "    (5): Sequential(\n",
            "      (0): MBConv(\n",
            "        (block): Sequential(\n",
            "          (0): Conv2dNormActivation(\n",
            "            (0): Conv2d(80, 480, kernel_size=(1, 1), stride=(1, 1), bias=False)\n",
            "            (1): BatchNorm2d(480, eps=1e-05, momentum=0.1, affine=True, track_running_stats=True)\n",
            "            (2): SiLU(inplace=True)\n",
            "          )\n",
            "          (1): Conv2dNormActivation(\n",
            "            (0): Conv2d(480, 480, kernel_size=(5, 5), stride=(1, 1), padding=(2, 2), groups=480, bias=False)\n",
            "            (1): BatchNorm2d(480, eps=1e-05, momentum=0.1, affine=True, track_running_stats=True)\n",
            "            (2): SiLU(inplace=True)\n",
            "          )\n",
            "          (2): SqueezeExcitation(\n",
            "            (avgpool): AdaptiveAvgPool2d(output_size=1)\n",
            "            (fc1): Conv2d(480, 20, kernel_size=(1, 1), stride=(1, 1))\n",
            "            (fc2): Conv2d(20, 480, kernel_size=(1, 1), stride=(1, 1))\n",
            "            (activation): SiLU(inplace=True)\n",
            "            (scale_activation): Sigmoid()\n",
            "          )\n",
            "          (3): Conv2dNormActivation(\n",
            "            (0): Conv2d(480, 112, kernel_size=(1, 1), stride=(1, 1), bias=False)\n",
            "            (1): BatchNorm2d(112, eps=1e-05, momentum=0.1, affine=True, track_running_stats=True)\n",
            "          )\n",
            "        )\n",
            "        (stochastic_depth): StochasticDepth(p=0.10434782608695654, mode=row)\n",
            "      )\n",
            "      (1): MBConv(\n",
            "        (block): Sequential(\n",
            "          (0): Conv2dNormActivation(\n",
            "            (0): Conv2d(112, 672, kernel_size=(1, 1), stride=(1, 1), bias=False)\n",
            "            (1): BatchNorm2d(672, eps=1e-05, momentum=0.1, affine=True, track_running_stats=True)\n",
            "            (2): SiLU(inplace=True)\n",
            "          )\n",
            "          (1): Conv2dNormActivation(\n",
            "            (0): Conv2d(672, 672, kernel_size=(5, 5), stride=(1, 1), padding=(2, 2), groups=672, bias=False)\n",
            "            (1): BatchNorm2d(672, eps=1e-05, momentum=0.1, affine=True, track_running_stats=True)\n",
            "            (2): SiLU(inplace=True)\n",
            "          )\n",
            "          (2): SqueezeExcitation(\n",
            "            (avgpool): AdaptiveAvgPool2d(output_size=1)\n",
            "            (fc1): Conv2d(672, 28, kernel_size=(1, 1), stride=(1, 1))\n",
            "            (fc2): Conv2d(28, 672, kernel_size=(1, 1), stride=(1, 1))\n",
            "            (activation): SiLU(inplace=True)\n",
            "            (scale_activation): Sigmoid()\n",
            "          )\n",
            "          (3): Conv2dNormActivation(\n",
            "            (0): Conv2d(672, 112, kernel_size=(1, 1), stride=(1, 1), bias=False)\n",
            "            (1): BatchNorm2d(112, eps=1e-05, momentum=0.1, affine=True, track_running_stats=True)\n",
            "          )\n",
            "        )\n",
            "        (stochastic_depth): StochasticDepth(p=0.11304347826086956, mode=row)\n",
            "      )\n",
            "      (2): MBConv(\n",
            "        (block): Sequential(\n",
            "          (0): Conv2dNormActivation(\n",
            "            (0): Conv2d(112, 672, kernel_size=(1, 1), stride=(1, 1), bias=False)\n",
            "            (1): BatchNorm2d(672, eps=1e-05, momentum=0.1, affine=True, track_running_stats=True)\n",
            "            (2): SiLU(inplace=True)\n",
            "          )\n",
            "          (1): Conv2dNormActivation(\n",
            "            (0): Conv2d(672, 672, kernel_size=(5, 5), stride=(1, 1), padding=(2, 2), groups=672, bias=False)\n",
            "            (1): BatchNorm2d(672, eps=1e-05, momentum=0.1, affine=True, track_running_stats=True)\n",
            "            (2): SiLU(inplace=True)\n",
            "          )\n",
            "          (2): SqueezeExcitation(\n",
            "            (avgpool): AdaptiveAvgPool2d(output_size=1)\n",
            "            (fc1): Conv2d(672, 28, kernel_size=(1, 1), stride=(1, 1))\n",
            "            (fc2): Conv2d(28, 672, kernel_size=(1, 1), stride=(1, 1))\n",
            "            (activation): SiLU(inplace=True)\n",
            "            (scale_activation): Sigmoid()\n",
            "          )\n",
            "          (3): Conv2dNormActivation(\n",
            "            (0): Conv2d(672, 112, kernel_size=(1, 1), stride=(1, 1), bias=False)\n",
            "            (1): BatchNorm2d(112, eps=1e-05, momentum=0.1, affine=True, track_running_stats=True)\n",
            "          )\n",
            "        )\n",
            "        (stochastic_depth): StochasticDepth(p=0.12173913043478261, mode=row)\n",
            "      )\n",
            "      (3): MBConv(\n",
            "        (block): Sequential(\n",
            "          (0): Conv2dNormActivation(\n",
            "            (0): Conv2d(112, 672, kernel_size=(1, 1), stride=(1, 1), bias=False)\n",
            "            (1): BatchNorm2d(672, eps=1e-05, momentum=0.1, affine=True, track_running_stats=True)\n",
            "            (2): SiLU(inplace=True)\n",
            "          )\n",
            "          (1): Conv2dNormActivation(\n",
            "            (0): Conv2d(672, 672, kernel_size=(5, 5), stride=(1, 1), padding=(2, 2), groups=672, bias=False)\n",
            "            (1): BatchNorm2d(672, eps=1e-05, momentum=0.1, affine=True, track_running_stats=True)\n",
            "            (2): SiLU(inplace=True)\n",
            "          )\n",
            "          (2): SqueezeExcitation(\n",
            "            (avgpool): AdaptiveAvgPool2d(output_size=1)\n",
            "            (fc1): Conv2d(672, 28, kernel_size=(1, 1), stride=(1, 1))\n",
            "            (fc2): Conv2d(28, 672, kernel_size=(1, 1), stride=(1, 1))\n",
            "            (activation): SiLU(inplace=True)\n",
            "            (scale_activation): Sigmoid()\n",
            "          )\n",
            "          (3): Conv2dNormActivation(\n",
            "            (0): Conv2d(672, 112, kernel_size=(1, 1), stride=(1, 1), bias=False)\n",
            "            (1): BatchNorm2d(112, eps=1e-05, momentum=0.1, affine=True, track_running_stats=True)\n",
            "          )\n",
            "        )\n",
            "        (stochastic_depth): StochasticDepth(p=0.13043478260869565, mode=row)\n",
            "      )\n",
            "    )\n",
            "    (6): Sequential(\n",
            "      (0): MBConv(\n",
            "        (block): Sequential(\n",
            "          (0): Conv2dNormActivation(\n",
            "            (0): Conv2d(112, 672, kernel_size=(1, 1), stride=(1, 1), bias=False)\n",
            "            (1): BatchNorm2d(672, eps=1e-05, momentum=0.1, affine=True, track_running_stats=True)\n",
            "            (2): SiLU(inplace=True)\n",
            "          )\n",
            "          (1): Conv2dNormActivation(\n",
            "            (0): Conv2d(672, 672, kernel_size=(5, 5), stride=(2, 2), padding=(2, 2), groups=672, bias=False)\n",
            "            (1): BatchNorm2d(672, eps=1e-05, momentum=0.1, affine=True, track_running_stats=True)\n",
            "            (2): SiLU(inplace=True)\n",
            "          )\n",
            "          (2): SqueezeExcitation(\n",
            "            (avgpool): AdaptiveAvgPool2d(output_size=1)\n",
            "            (fc1): Conv2d(672, 28, kernel_size=(1, 1), stride=(1, 1))\n",
            "            (fc2): Conv2d(28, 672, kernel_size=(1, 1), stride=(1, 1))\n",
            "            (activation): SiLU(inplace=True)\n",
            "            (scale_activation): Sigmoid()\n",
            "          )\n",
            "          (3): Conv2dNormActivation(\n",
            "            (0): Conv2d(672, 192, kernel_size=(1, 1), stride=(1, 1), bias=False)\n",
            "            (1): BatchNorm2d(192, eps=1e-05, momentum=0.1, affine=True, track_running_stats=True)\n",
            "          )\n",
            "        )\n",
            "        (stochastic_depth): StochasticDepth(p=0.1391304347826087, mode=row)\n",
            "      )\n",
            "      (1): MBConv(\n",
            "        (block): Sequential(\n",
            "          (0): Conv2dNormActivation(\n",
            "            (0): Conv2d(192, 1152, kernel_size=(1, 1), stride=(1, 1), bias=False)\n",
            "            (1): BatchNorm2d(1152, eps=1e-05, momentum=0.1, affine=True, track_running_stats=True)\n",
            "            (2): SiLU(inplace=True)\n",
            "          )\n",
            "          (1): Conv2dNormActivation(\n",
            "            (0): Conv2d(1152, 1152, kernel_size=(5, 5), stride=(1, 1), padding=(2, 2), groups=1152, bias=False)\n",
            "            (1): BatchNorm2d(1152, eps=1e-05, momentum=0.1, affine=True, track_running_stats=True)\n",
            "            (2): SiLU(inplace=True)\n",
            "          )\n",
            "          (2): SqueezeExcitation(\n",
            "            (avgpool): AdaptiveAvgPool2d(output_size=1)\n",
            "            (fc1): Conv2d(1152, 48, kernel_size=(1, 1), stride=(1, 1))\n",
            "            (fc2): Conv2d(48, 1152, kernel_size=(1, 1), stride=(1, 1))\n",
            "            (activation): SiLU(inplace=True)\n",
            "            (scale_activation): Sigmoid()\n",
            "          )\n",
            "          (3): Conv2dNormActivation(\n",
            "            (0): Conv2d(1152, 192, kernel_size=(1, 1), stride=(1, 1), bias=False)\n",
            "            (1): BatchNorm2d(192, eps=1e-05, momentum=0.1, affine=True, track_running_stats=True)\n",
            "          )\n",
            "        )\n",
            "        (stochastic_depth): StochasticDepth(p=0.14782608695652175, mode=row)\n",
            "      )\n",
            "      (2): MBConv(\n",
            "        (block): Sequential(\n",
            "          (0): Conv2dNormActivation(\n",
            "            (0): Conv2d(192, 1152, kernel_size=(1, 1), stride=(1, 1), bias=False)\n",
            "            (1): BatchNorm2d(1152, eps=1e-05, momentum=0.1, affine=True, track_running_stats=True)\n",
            "            (2): SiLU(inplace=True)\n",
            "          )\n",
            "          (1): Conv2dNormActivation(\n",
            "            (0): Conv2d(1152, 1152, kernel_size=(5, 5), stride=(1, 1), padding=(2, 2), groups=1152, bias=False)\n",
            "            (1): BatchNorm2d(1152, eps=1e-05, momentum=0.1, affine=True, track_running_stats=True)\n",
            "            (2): SiLU(inplace=True)\n",
            "          )\n",
            "          (2): SqueezeExcitation(\n",
            "            (avgpool): AdaptiveAvgPool2d(output_size=1)\n",
            "            (fc1): Conv2d(1152, 48, kernel_size=(1, 1), stride=(1, 1))\n",
            "            (fc2): Conv2d(48, 1152, kernel_size=(1, 1), stride=(1, 1))\n",
            "            (activation): SiLU(inplace=True)\n",
            "            (scale_activation): Sigmoid()\n",
            "          )\n",
            "          (3): Conv2dNormActivation(\n",
            "            (0): Conv2d(1152, 192, kernel_size=(1, 1), stride=(1, 1), bias=False)\n",
            "            (1): BatchNorm2d(192, eps=1e-05, momentum=0.1, affine=True, track_running_stats=True)\n",
            "          )\n",
            "        )\n",
            "        (stochastic_depth): StochasticDepth(p=0.1565217391304348, mode=row)\n",
            "      )\n",
            "      (3): MBConv(\n",
            "        (block): Sequential(\n",
            "          (0): Conv2dNormActivation(\n",
            "            (0): Conv2d(192, 1152, kernel_size=(1, 1), stride=(1, 1), bias=False)\n",
            "            (1): BatchNorm2d(1152, eps=1e-05, momentum=0.1, affine=True, track_running_stats=True)\n",
            "            (2): SiLU(inplace=True)\n",
            "          )\n",
            "          (1): Conv2dNormActivation(\n",
            "            (0): Conv2d(1152, 1152, kernel_size=(5, 5), stride=(1, 1), padding=(2, 2), groups=1152, bias=False)\n",
            "            (1): BatchNorm2d(1152, eps=1e-05, momentum=0.1, affine=True, track_running_stats=True)\n",
            "            (2): SiLU(inplace=True)\n",
            "          )\n",
            "          (2): SqueezeExcitation(\n",
            "            (avgpool): AdaptiveAvgPool2d(output_size=1)\n",
            "            (fc1): Conv2d(1152, 48, kernel_size=(1, 1), stride=(1, 1))\n",
            "            (fc2): Conv2d(48, 1152, kernel_size=(1, 1), stride=(1, 1))\n",
            "            (activation): SiLU(inplace=True)\n",
            "            (scale_activation): Sigmoid()\n",
            "          )\n",
            "          (3): Conv2dNormActivation(\n",
            "            (0): Conv2d(1152, 192, kernel_size=(1, 1), stride=(1, 1), bias=False)\n",
            "            (1): BatchNorm2d(192, eps=1e-05, momentum=0.1, affine=True, track_running_stats=True)\n",
            "          )\n",
            "        )\n",
            "        (stochastic_depth): StochasticDepth(p=0.16521739130434784, mode=row)\n",
            "      )\n",
            "      (4): MBConv(\n",
            "        (block): Sequential(\n",
            "          (0): Conv2dNormActivation(\n",
            "            (0): Conv2d(192, 1152, kernel_size=(1, 1), stride=(1, 1), bias=False)\n",
            "            (1): BatchNorm2d(1152, eps=1e-05, momentum=0.1, affine=True, track_running_stats=True)\n",
            "            (2): SiLU(inplace=True)\n",
            "          )\n",
            "          (1): Conv2dNormActivation(\n",
            "            (0): Conv2d(1152, 1152, kernel_size=(5, 5), stride=(1, 1), padding=(2, 2), groups=1152, bias=False)\n",
            "            (1): BatchNorm2d(1152, eps=1e-05, momentum=0.1, affine=True, track_running_stats=True)\n",
            "            (2): SiLU(inplace=True)\n",
            "          )\n",
            "          (2): SqueezeExcitation(\n",
            "            (avgpool): AdaptiveAvgPool2d(output_size=1)\n",
            "            (fc1): Conv2d(1152, 48, kernel_size=(1, 1), stride=(1, 1))\n",
            "            (fc2): Conv2d(48, 1152, kernel_size=(1, 1), stride=(1, 1))\n",
            "            (activation): SiLU(inplace=True)\n",
            "            (scale_activation): Sigmoid()\n",
            "          )\n",
            "          (3): Conv2dNormActivation(\n",
            "            (0): Conv2d(1152, 192, kernel_size=(1, 1), stride=(1, 1), bias=False)\n",
            "            (1): BatchNorm2d(192, eps=1e-05, momentum=0.1, affine=True, track_running_stats=True)\n",
            "          )\n",
            "        )\n",
            "        (stochastic_depth): StochasticDepth(p=0.17391304347826086, mode=row)\n",
            "      )\n",
            "    )\n",
            "    (7): Sequential(\n",
            "      (0): MBConv(\n",
            "        (block): Sequential(\n",
            "          (0): Conv2dNormActivation(\n",
            "            (0): Conv2d(192, 1152, kernel_size=(1, 1), stride=(1, 1), bias=False)\n",
            "            (1): BatchNorm2d(1152, eps=1e-05, momentum=0.1, affine=True, track_running_stats=True)\n",
            "            (2): SiLU(inplace=True)\n",
            "          )\n",
            "          (1): Conv2dNormActivation(\n",
            "            (0): Conv2d(1152, 1152, kernel_size=(3, 3), stride=(1, 1), padding=(1, 1), groups=1152, bias=False)\n",
            "            (1): BatchNorm2d(1152, eps=1e-05, momentum=0.1, affine=True, track_running_stats=True)\n",
            "            (2): SiLU(inplace=True)\n",
            "          )\n",
            "          (2): SqueezeExcitation(\n",
            "            (avgpool): AdaptiveAvgPool2d(output_size=1)\n",
            "            (fc1): Conv2d(1152, 48, kernel_size=(1, 1), stride=(1, 1))\n",
            "            (fc2): Conv2d(48, 1152, kernel_size=(1, 1), stride=(1, 1))\n",
            "            (activation): SiLU(inplace=True)\n",
            "            (scale_activation): Sigmoid()\n",
            "          )\n",
            "          (3): Conv2dNormActivation(\n",
            "            (0): Conv2d(1152, 320, kernel_size=(1, 1), stride=(1, 1), bias=False)\n",
            "            (1): BatchNorm2d(320, eps=1e-05, momentum=0.1, affine=True, track_running_stats=True)\n",
            "          )\n",
            "        )\n",
            "        (stochastic_depth): StochasticDepth(p=0.1826086956521739, mode=row)\n",
            "      )\n",
            "      (1): MBConv(\n",
            "        (block): Sequential(\n",
            "          (0): Conv2dNormActivation(\n",
            "            (0): Conv2d(320, 1920, kernel_size=(1, 1), stride=(1, 1), bias=False)\n",
            "            (1): BatchNorm2d(1920, eps=1e-05, momentum=0.1, affine=True, track_running_stats=True)\n",
            "            (2): SiLU(inplace=True)\n",
            "          )\n",
            "          (1): Conv2dNormActivation(\n",
            "            (0): Conv2d(1920, 1920, kernel_size=(3, 3), stride=(1, 1), padding=(1, 1), groups=1920, bias=False)\n",
            "            (1): BatchNorm2d(1920, eps=1e-05, momentum=0.1, affine=True, track_running_stats=True)\n",
            "            (2): SiLU(inplace=True)\n",
            "          )\n",
            "          (2): SqueezeExcitation(\n",
            "            (avgpool): AdaptiveAvgPool2d(output_size=1)\n",
            "            (fc1): Conv2d(1920, 80, kernel_size=(1, 1), stride=(1, 1))\n",
            "            (fc2): Conv2d(80, 1920, kernel_size=(1, 1), stride=(1, 1))\n",
            "            (activation): SiLU(inplace=True)\n",
            "            (scale_activation): Sigmoid()\n",
            "          )\n",
            "          (3): Conv2dNormActivation(\n",
            "            (0): Conv2d(1920, 320, kernel_size=(1, 1), stride=(1, 1), bias=False)\n",
            "            (1): BatchNorm2d(320, eps=1e-05, momentum=0.1, affine=True, track_running_stats=True)\n",
            "          )\n",
            "        )\n",
            "        (stochastic_depth): StochasticDepth(p=0.19130434782608696, mode=row)\n",
            "      )\n",
            "    )\n",
            "    (8): Conv2dNormActivation(\n",
            "      (0): Conv2d(320, 1280, kernel_size=(1, 1), stride=(1, 1), bias=False)\n",
            "      (1): BatchNorm2d(1280, eps=1e-05, momentum=0.1, affine=True, track_running_stats=True)\n",
            "      (2): SiLU(inplace=True)\n",
            "    )\n",
            "  )\n",
            "  (avgpool): AdaptiveAvgPool2d(output_size=1)\n",
            "  (classifier): Sequential(\n",
            "    (0): Dropout(p=0.2, inplace=True)\n",
            "    (1): Linear(in_features=1280, out_features=1000, bias=True)\n",
            "  )\n",
            ")\n",
            "\n",
            "============================================================\n",
            "Número total de parámetros: 7,794,184\n"
          ]
        }
      ],
      "source": [
        "# Mostrar la arquitectura del modelo cargado\n",
        "print(\"Arquitectura completa del modelo EfficientNet B1:\")\n",
        "print(model)\n",
        "print(\"\\n\" + \"===\"*20)\n",
        "print(f\"Número total de parámetros: {sum(p.numel() for p in model.parameters()):,}\")\n",
        "\n"
      ]
    },
    {
      "cell_type": "markdown",
      "id": "5e050b17",
      "metadata": {},
      "source": [
        "### Comentario de la casilla anterior\n",
        "\n",
        "En la casilla anterior se lista la arquitectura del algoritmo EfficientNet B1, el cual tiene tres secciones principales:\n",
        "1. (features)   =   es el extractor de características. Son todas las capas convolucionales que extraen patrones como bordes, formas, texturas, objetos...\n",
        "2. (avgpool)    =   el Pooling promedio. Ayduda a reducir el tamaño. Convierte los mapas de características a vector.\n",
        "3. (classifier) =   Se trata del clasificador y es la parte final del proceso que usa una red clasica o Red Densa (Fully Connected Network). Contiene 2 capas: Dropout + Linear. REduce las clases a las 4 clases finales y toma la decisión de a que clase pertenecen los datos que le van llegando (las 4 emociones)."
      ]
    },
    {
      "cell_type": "markdown",
      "id": "567ac166",
      "metadata": {
        "id": "567ac166"
      },
      "source": [
        "Congela los parámetros de toda la red, es decir, configura los parámetros para que no requieran el cómputo del gradiente."
      ]
    },
    {
      "cell_type": "code",
      "execution_count": null,
      "id": "28b5d4c0",
      "metadata": {
        "id": "28b5d4c0"
      },
      "outputs": [
        {
          "name": "stdout",
          "output_type": "stream",
          "text": [
            "Parámetros totales: 7,794,184\n",
            "Parámetros congelados: 6,513,184\n",
            "Parámetros entrenables: 1,281,000\n"
          ]
        }
      ],
      "source": [
        "# Congelar todos los parámetros del extractor de características. Itera sobre todos los parámetros de la sección \"features\" con model.features.parameters()\n",
        "for param in model.features.parameters():\n",
        "    param.requires_grad = False\n",
        "\n",
        "# Verificar cuántos parámetros están congelados vs entrenables\n",
        "total_params = sum(p.numel() for p in model.parameters())\n",
        "trainable_params = sum(p.numel() for p in model.parameters() if p.requires_grad)\n",
        "frozen_params = total_params - trainable_params\n",
        "\n",
        "print(f\"Parámetros totales: {total_params:,}\")\n",
        "print(f\"Parámetros congelados: {frozen_params:,}\")\n",
        "print(f\"Parámetros entrenables: {trainable_params:,}\")"
      ]
    },
    {
      "cell_type": "markdown",
      "id": "b605b988",
      "metadata": {},
      "source": [
        "### Comentario de la casilla anterior\n",
        "\n",
        "El bucle for itera por cada uno de los parámetros de la sección features del model y los congela con \"param.requires_grad = False\".\n",
        "\n",
        "El siguiente bloque verifica cuantos elementos hay en el modelo con la funciond de Pytorch .numel() y los divide en totales y los que estan congelados. Por último, la resta de estos dos valores nos da el total de parametros entrenables, que en realidad es el paso donde el clasifier reduce la clasificación a 1000 clases, que hace lo siguiente: 1000 + bias nos da = 1.281.000 parametros entrenables (si lo he entendido bien)"
      ]
    },
    {
      "cell_type": "markdown",
      "id": "954bf69e",
      "metadata": {
        "id": "954bf69e"
      },
      "source": [
        "Localiza la capas o capas que actúan como clasificadores. ¿Cuántas son? ¿Cómo se llama el bloque que las contiene?"
      ]
    },
    {
      "cell_type": "code",
      "execution_count": 148,
      "id": "zxC__u5E0mon",
      "metadata": {
        "id": "zxC__u5E0mon"
      },
      "outputs": [
        {
          "name": "stdout",
          "output_type": "stream",
          "text": [
            " BLOQUES PRINCIPALES \n",
            "¨¨¨¨¨¨¨¨¨¨¨¨¨¨¨¨¨¨¨¨¨¨¨¨¨¨¨¨¨¨¨¨¨¨¨¨¨¨¨¨¨¨¨¨¨¨¨¨¨¨¨¨¨¨¨¨¨¨¨¨\n",
            "  1. features\n",
            "  2. avgpool\n",
            "  3. classifier\n",
            "¨¨¨¨¨¨¨¨¨¨¨¨¨¨¨¨¨¨¨¨¨¨¨¨¨¨¨¨¨¨¨¨¨¨¨¨¨¨¨¨¨¨¨¨¨¨¨¨¨¨¨¨¨¨¨¨¨¨¨¨\n",
            " Capas dentro del bloque 'classifier':\n",
            "  1. Dropout\n",
            "  2. Linear\n",
            "¨¨¨¨¨¨¨¨¨¨¨¨¨¨¨¨¨¨¨¨¨¨¨¨¨¨¨¨¨¨¨¨¨¨¨¨¨¨¨¨¨¨¨¨¨¨¨¨¨¨¨¨¨¨¨¨¨¨¨¨\n",
            " El bloque clasificador se llama: classifier\n",
            " Contiene 2 capas: Dropout, Linear\n",
            "¨¨¨¨¨¨¨¨¨¨¨¨¨¨¨¨¨¨¨¨¨¨¨¨¨¨¨¨¨¨¨¨¨¨¨¨¨¨¨¨¨¨¨¨¨¨¨¨¨¨¨¨¨¨¨¨¨¨¨¨\n"
          ]
        }
      ],
      "source": [
        "# mostrar los bloques principales del modelo\n",
        "print(\" BLOQUES PRINCIPALES \")\n",
        "print(\"¨\" * 60)\n",
        "bloques = list(model.named_children())\n",
        "for i, (name, _) in enumerate(bloques):\n",
        "    print(f\"  {i+1}. {name}\")\n",
        "\n",
        "print(\"¨\" * 60)\n",
        "# Obtener  los nombres de las capas dentro del clasificador\n",
        "print(f\" Capas dentro del bloque 'classifier':\")\n",
        "capas_clasificador = [type(capa).__name__ for capa in model.classifier]\n",
        "for i, capa in enumerate(capas_clasificador):\n",
        "    print(f\"  {i+1}. {capa}\")\n",
        "    \n",
        "# print(f\"Capas dentro del bloque 'classifier': {capas_clasificador}\")\n",
        "\n",
        "print(\"¨\" * 60)\n",
        "print(f\" El bloque clasificador se llama: {bloques[2][0]}\")\n",
        "print(f\" Contiene {len(model.classifier)} capas: {', '.join(capas_clasificador)}\")\n",
        "print(\"¨\" * 60)\n",
        "\n",
        "\n",
        "# print(f\"• Contiene {len(model.classifier)} capas: {', '.join(capas_clasificador)}\")"
      ]
    },
    {
      "cell_type": "markdown",
      "id": "de5a1241",
      "metadata": {},
      "source": [
        "## Comentario de la casilla anterior\n",
        "\n",
        "### En el código anterior hay 3 partes:\n",
        "\n",
        "La primera lista los bloques principales que contiene el modelo. \n",
        "\n",
        "La segunda muestra las capas dentro del modelo clasificador. \n",
        "\n",
        "La tercera es simplemente una respuesta resumida de lo anterior.\n",
        "\n",
        "\n",
        ".\n",
        "\n",
        "."
      ]
    },
    {
      "cell_type": "markdown",
      "id": "64ce4722",
      "metadata": {
        "id": "64ce4722"
      },
      "source": [
        "Define un nuevo clasificador adaptado a nuestro problema:\n",
        "*   Una capa de Dropout con probabilidad de **0.3** y que realice la operación **inplace**.\n",
        "*   Una capa Linear adecuada: hay que definir el número de *features* de entrada y el número de *features* de salida.\n"
      ]
    },
    {
      "cell_type": "code",
      "execution_count": 150,
      "id": "f7085fe0",
      "metadata": {
        "id": "f7085fe0"
      },
      "outputs": [],
      "source": [
        "in_features = model.classifier[1].in_features\n",
        "num_classes = len(train_dataset.classes)\n",
        "\n",
        "new_head = nn.Sequential(\n",
        "    nn.Dropout(p=0.3, inplace=True),\n",
        "    nn.Linear(in_features, num_classes)\n",
        ")"
      ]
    },
    {
      "cell_type": "markdown",
      "id": "ea0400ed",
      "metadata": {
        "id": "ea0400ed"
      },
      "source": [
        "Actualiza el clasificador del modelo. Por defecto, el nuevo clasificador no tendrá los pesos congelados y, por tanto, se entrenará."
      ]
    },
    {
      "cell_type": "code",
      "execution_count": 154,
      "id": "e32792ea",
      "metadata": {
        "id": "e32792ea"
      },
      "outputs": [],
      "source": [
        "# Actualizar el clasificador del modelo\n",
        "model.classifier = new_head\n",
        "\n"
      ]
    },
    {
      "cell_type": "markdown",
      "id": "d653108c",
      "metadata": {
        "id": "d653108c"
      },
      "source": [
        "Muestra y verifica que el modelo está actualizado con la nueva arquitectura:"
      ]
    },
    {
      "cell_type": "code",
      "execution_count": 163,
      "id": "4ecd538a",
      "metadata": {
        "id": "4ecd538a"
      },
      "outputs": [
        {
          "name": "stdout",
          "output_type": "stream",
          "text": [
            "^^^^^^^^^^^^^^^^^^^^^^^^^^^^^^^^^^^^^^^^^^^^^^^^^^^^^^^^^^^^\n",
            "   CLASIFICADOR ACTUALIZADO \n",
            "^^^^^^^^^^^^^^^^^^^^^^^^^^^^^^^^^^^^^^^^^^^^^^^^^^^^^^^^^^^^\n",
            "Nuevo clasificador:\n",
            "Sequential(\n",
            "  (0): Dropout(p=0.3, inplace=True)\n",
            "  (1): Linear(in_features=1280, out_features=4, bias=True)\n",
            ")\n",
            "¨¨¨¨¨¨¨¨¨¨¨¨¨¨¨¨¨¨¨¨¨¨¨¨¨¨¨¨¨¨¨¨¨¨¨¨¨¨¨¨¨¨¨¨¨¨¨¨¨¨¨¨¨¨¨¨¨¨¨¨\n",
            "\n",
            "Dimensiones de la capa Linear:\n",
            "Entrada: 1280\n",
            "Salida: 4\n",
            "¨¨¨¨¨¨¨¨¨¨¨¨¨¨¨¨¨¨¨¨¨¨¨¨¨¨¨¨¨¨¨¨¨¨¨¨¨¨¨¨¨¨¨¨¨¨¨¨¨¨¨¨¨¨¨¨¨¨¨¨\n"
          ]
        }
      ],
      "source": [
        "# Verificar que se ha actualizado correctamente\n",
        "print(\"^\" * 60)\n",
        "print(\"   CLASIFICADOR ACTUALIZADO \")\n",
        "print(\"^\" * 60)\n",
        "\n",
        "print(f\"Nuevo clasificador:\")\n",
        "print(model.classifier)\n",
        "print(\"¨\" * 60)\n",
        "\n",
        "print(f\"\\nDimensiones de la capa Linear:\")\n",
        "print(f\"Entrada: {model.classifier[1].in_features}\")\n",
        "print(f\"Salida: {model.classifier[1].out_features}\")\n",
        "print(\"¨\" * 60)"
      ]
    },
    {
      "cell_type": "markdown",
      "id": "f12fef29",
      "metadata": {},
      "source": [
        "### Comentario del código anterior\n",
        "\n",
        "\n",
        "\n",
        "<table>\n",
        "<tr>\n",
        "\n",
        "<td width=\"50%\" style=\"padding: 20px; vertical-align: top;\">\n",
        "\n",
        "\n",
        "Con anterioridad a este paso, obtuvimos que:\n",
        "    \n",
        "(0): Dropout(p=0.2, inplace=True)\n",
        "\n",
        "(1): Linear(in_features=1280, out_features=1000, bias=True)\n",
        "\n",
        "\n",
        "\n",
        "</td>\n",
        "\n",
        "<td width=\"50%\" style=\"padding: 20px; vertical-align: top;\">\n",
        "\n",
        "Después de actualizar de clasificador tenemos:\n",
        "  \n",
        "(0): Dropout(p=0.3, inplace=True)\n",
        "  \n",
        "(1): Linear(in_features=1280, out_features=4, bias=True)\n",
        "\n",
        "</td>\n",
        "</tr>\n",
        "</table>\n",
        "\n"
      ]
    },
    {
      "cell_type": "markdown",
      "id": "2af82f39",
      "metadata": {
        "id": "2af82f39"
      },
      "source": [
        "### Ej 1.3: Checkpoints (1.5 puntos)\n",
        "\n",
        "Ya tenemos todo listo para poder entrenar nuestro modelo. El único problema es que el entrenamiento va a ser costoso (aunque podría serlo muchísimo más), por lo que lo correcto es utilizar *checkpoints* para evitar cualquier inconveniente que pueda ocurrir durante el entrenamiento que haga que el entrenamiento se detenga y, por tanto, echar a perder todo el cómputo realizado.\n",
        "\n",
        "Es por ello que antes que nada vamos a crear dos funciones que permitan guardar y cargar un *checkpoint* utilizando las herramientas que nos proporciona PyTorch. Recuerda guardar todo lo que sea necesario para que el modelo pueda ser recuperado íntegramente o, al menos, que pueda seguir entrenando por donde iba.\n",
        "\n",
        "En PyTorch, el formato para guardar *checkpoints* es *.pth*."
      ]
    },
    {
      "cell_type": "markdown",
      "id": "974e9cdc",
      "metadata": {
        "id": "974e9cdc"
      },
      "source": [
        "#### Método para guardar un *checkpoint*\n",
        "- **path**: Dirección donde se va a almacenar el *checkpoint*\n",
        "- **model**: Instancia del modelo a almacenar\n",
        "- **optimizer**: Optimizador utilizado, con el objetivo de guardar su estado (recuerda que hay optimizadores con hiperparámetros progresivos).\n",
        "\n",
        "El método no devuelve nada."
      ]
    },
    {
      "cell_type": "code",
      "execution_count": 169,
      "id": "c38c901e",
      "metadata": {
        "id": "c38c901e"
      },
      "outputs": [],
      "source": [
        "def save_checkpoint(path, model, optimizer):\n",
        "    \n",
        "    if not path.endswith(\".pth\"):\n",
        "        print(\"El checkpoint debe tener formato .pth\")\n",
        "        return\n",
        "    \n",
        "    checkpoint = {\n",
        "        'model_state_dict': model.state_dict(),\n",
        "        'optimizer_state_dict': optimizer.state_dict()\n",
        "    }\n",
        "    \n",
        "    torch.save(checkpoint, path)\n",
        "    print(f\"Checkpoint guardado en: {path}\")"
      ]
    },
    {
      "cell_type": "markdown",
      "id": "02005825",
      "metadata": {
        "id": "02005825"
      },
      "source": [
        "#### Método para recuperar un *checkpoint*\n",
        "- **path**: Dirección donde se va a recuperar el *checkpoint*\n",
        "- **model**: Instancia \"vacía\" del modelo recuperado. La arquitectura debe ser la misma que a la hora del guardado.\n",
        "- **optimizer**: Instancia nueva del optimizador recuperado. Debe ser del mismo tipo para poder actualizar su estado.\n",
        "\n",
        "El método debe devolver:\n",
        "- **model**: Modelo actualizado.\n",
        "- **optimizer**: Optimizador actualizado."
      ]
    },
    {
      "cell_type": "code",
      "execution_count": 170,
      "id": "068912e5",
      "metadata": {
        "id": "068912e5"
      },
      "outputs": [],
      "source": [
        "def load_checkpoint(path, model, optimizer):\n",
        "    if not path.endswith(\".pth\"):\n",
        "        print(\"El checkpoint debe tener formato .pth\")\n",
        "        return\n",
        "    \n",
        "    checkpoint = torch.load(path)\n",
        "    model.load_state_dict(checkpoint['model_state_dict'])\n",
        "    optimizer.load_state_dict(checkpoint['optimizer_state_dict'])\n",
        "    \n",
        "    print(f\"Checkpoint cargado desde: {path}\")\n",
        "    return model, optimizer"
      ]
    },
    {
      "cell_type": "markdown",
      "id": "e89b5d71",
      "metadata": {
        "id": "e89b5d71"
      },
      "source": [
        "### Ej 1.4: Entrenamiento del modelo (1.0 punto)\n",
        "\n",
        "Finalmente, ya tenemos toda la información y herramientas necesarias para proceder a entrenar el modelo. A continuacion, se ofrecen los metodos para entrenar y evaluar los conjuntos de validation/test que ya se trabajaron en la Practica 1."
      ]
    },
    {
      "cell_type": "code",
      "execution_count": null,
      "id": "aeff4d51",
      "metadata": {
        "id": "aeff4d51"
      },
      "outputs": [],
      "source": [
        "def training(dataloader, model, loss_fn, optimizer):\n",
        "\n",
        "    model.train() # Indicamos al modelo que vamos a entrenar\n",
        "\n",
        "    num_batches = len(dataloader) # Número de batches para promediar el loss\n",
        "    size = len(dataloader.dataset)\n",
        "\n",
        "    train_loss, correct = 0, 0\n",
        "\n",
        "    for batch, (X, y) in enumerate(dataloader): # Iteramos por los distintos batches creados en el dataloader\n",
        "\n",
        "        X = X.to(device)\n",
        "        y = y.to(device)\n",
        "\n",
        "        # Compute prediction and loss\n",
        "        pred = model(X) # Calculamos el forward pass\n",
        "        loss = loss_fn(pred, y) # Calculamos el loss\n",
        "\n",
        "        _,predicted=torch.max(pred,1)\n",
        "        correct+=(y==predicted).sum().item()\n",
        "\n",
        "        # Backpropagation\n",
        "        optimizer.zero_grad() # Limpiamos los gradientes viejos\n",
        "        loss.backward() # Calculamos los nuevos gradientes\n",
        "        optimizer.step() # Actualizamos los parámetros (pesos) del modelo\n",
        "\n",
        "        train_loss += loss.item()\n",
        "\n",
        "    correct /= size\n",
        "    avg_train_loss = train_loss/num_batches\n",
        "    accuracy = 100*correct\n",
        "    print(f\"Train Metrics: \\n Accuracy: {accuracy:>0.1f}%, Avg train loss: {avg_train_loss:>8f}\\n\")\n",
        "    return avg_train_loss, accuracy"
      ]
    },
    {
      "cell_type": "code",
      "execution_count": null,
      "id": "6c5cc412",
      "metadata": {
        "id": "6c5cc412"
      },
      "outputs": [],
      "source": [
        "def test_and_validation(dataloader, model, loss_fn):\n",
        "\n",
        "    model.eval() # Indicamos que no vamos a entrenar\n",
        "\n",
        "    test_loss, correct = 0, 0\n",
        "    size = len(dataloader.dataset)\n",
        "    num_batches = len(dataloader)\n",
        "\n",
        "    with torch.no_grad():\n",
        "        for X, y in dataloader:\n",
        "            X = X.to(device)\n",
        "            y = y.to(device)\n",
        "            pred = model(X)\n",
        "            test_loss += loss_fn(pred, y).item()\n",
        "            _,predicted=torch.max(pred,1)\n",
        "            correct+=(y==predicted).sum().item()\n",
        "\n",
        "    test_loss /= num_batches\n",
        "    correct /= size\n",
        "\n",
        "    avg_loss = test_loss\n",
        "    accuracy = 100*correct\n",
        "    print(f\"Val or Test Metrics: \\n Accuracy: {accuracy:>0.1f}%, Avg loss: {avg_loss:>8f} \\n\")\n",
        "    return avg_loss, accuracy"
      ]
    },
    {
      "cell_type": "markdown",
      "id": "934dd291",
      "metadata": {
        "id": "934dd291"
      },
      "source": [
        "Utilizaremos **Adam** como optimizador y **CrossEntropyLoss** como función de coste:"
      ]
    },
    {
      "cell_type": "code",
      "execution_count": null,
      "id": "199f43fd",
      "metadata": {
        "id": "199f43fd"
      },
      "outputs": [],
      "source": [
        "loss_fn = \"\" # Completar\n",
        "optimizer = \"\" # Completar"
      ]
    },
    {
      "cell_type": "markdown",
      "id": "03c4e96e",
      "metadata": {
        "id": "03c4e96e"
      },
      "source": [
        "Entrena durante **4 épocas** el modelo guardando al final de cada una de ellas un *checkpoint*. Puedes reescribir siempre el mismo o crear un *checkpoint* para cada una de las épocas.\n",
        "\n",
        "**Atención**: Para simplemente probar el código te recomiendo que pruebes únicamente con una época."
      ]
    },
    {
      "cell_type": "code",
      "execution_count": null,
      "id": "daf16d1c",
      "metadata": {
        "id": "daf16d1c"
      },
      "outputs": [],
      "source": [
        "epochs =  # Completar\n",
        "for t in range(epochs):\n",
        "    print(f\"Epoch {t+1}\\n-------------------------------\")\n",
        "\n",
        "    # Completar"
      ]
    },
    {
      "cell_type": "markdown",
      "id": "67e48d71",
      "metadata": {
        "id": "67e48d71"
      },
      "source": [
        "Ahora, vamos a utilizar los **checkpoints** para entrenar el modelo mas epochs.\n",
        "\n",
        "Carga el último **checkpoint** generado en la útima época del último entrenamiento en las nuevas variables `model_recovered` y `optimizer_recovered` para entrenar el modelo **4 épocas más**.\n",
        "\n",
        "Consideraciones:\n",
        "- El loss en test de la última época del primer entrenamiento **debe coincidir** con el loss en test antes de la primera época del segundo entrenamiento. Muestra ambos valores para verificar que, efectivamente, estás entrenando el \"mismo\" modelo.\n",
        "- Para cargar un *checkpoint* la arquitectura del modelo debe ser la misma que a la hora de guardarlo. Si mantienes la misma sesion de colab y tienes el modelo **Efficient Net B1** correctamnte adaptado y en la variable `model`, puedes usar esta variable para cargar el checkpoint. Si este no es el caso, deberás crear una instancia nueva del Efficient Net y repetir el proceso seguido en el ejercicio 1.2 para adaptar su arquitectura y, con ello, poder cargar los pesos."
      ]
    },
    {
      "cell_type": "code",
      "execution_count": null,
      "id": "f60e9245",
      "metadata": {
        "id": "f60e9245"
      },
      "outputs": [],
      "source": [
        "model_recovered = \"\"\n",
        "optimizer_recovered = \"\""
      ]
    },
    {
      "cell_type": "markdown",
      "id": "455f4959",
      "metadata": {
        "id": "455f4959"
      },
      "source": [
        "Ahora podemos proceder con el re-entrenamiento con el modelo recien cargado usando el checkpoint. Implementa el codigo para entrenar **4 epochs mas** el modelo en la variable `model_recovered`"
      ]
    },
    {
      "cell_type": "code",
      "execution_count": null,
      "id": "444bbd43",
      "metadata": {
        "id": "444bbd43"
      },
      "outputs": [],
      "source": [
        "epochs =  # Completar\n",
        "for t in range(epochs):\n",
        "    print(f\"Epoch {t+1}\\n-------------------------------\")\n",
        "\n",
        "    # Completar"
      ]
    },
    {
      "cell_type": "markdown",
      "id": "FwmEV1P3fiQw",
      "metadata": {
        "id": "FwmEV1P3fiQw"
      },
      "source": [
        "**Responde a las siguientes preguntas:**\n",
        "1. ¿Mejora este modelo una clasificación al azar?\n",
        "\n",
        "2. ¿Sufre el modelo de Overfitting o Underfitting?\n",
        "\n",
        "3. ¿Crees que podría seguir mejorando sus métricas? ¿Cómo?\n",
        "\n",
        "Puedes hacer uso (optativo) de la funcion `plot_comparative` de la Practica 1 para visualizar el `accuracy` con respecto a las epochs de entrenamiento. Para ello deberas guardar en una lista el `accuracy` durante el entrenamiento.  "
      ]
    },
    {
      "cell_type": "markdown",
      "id": "_PP1-BHyfnfA",
      "metadata": {
        "id": "_PP1-BHyfnfA"
      },
      "source": [
        "*Tu respuesta aqui*"
      ]
    },
    {
      "cell_type": "markdown",
      "id": "df3db57d",
      "metadata": {
        "id": "df3db57d"
      },
      "source": [
        "## Ej 2. Problema de clasificación end-to-end (5 pts)"
      ]
    },
    {
      "cell_type": "markdown",
      "id": "d3759a3a",
      "metadata": {
        "id": "d3759a3a"
      },
      "source": [
        "En esta última semana se va a poner en práctica todos los conocimientos adquiridos a lo largo de este módulo: deberás desarrollar un modelo neuronal para la clasificación de imágenes de frutas que ofrezca el mayor *accuracy* posible. No hay más indicaciones o limitaciones que las siguientes:\n",
        "- El dataset a utilizar será el siguiente: [https://www.kaggle.com/datasets/sshikamaru/fruit-recognition/data](https://www.kaggle.com/datasets/sshikamaru/fruit-recognition/data).\n",
        "- Has de reutilizar un modelo neuronal utilizando PyTorch, tú decides el grado de reutilización. Ideas:\n",
        "  - Modelos de PyTorch Hub. [https://pytorch.org/hub/](https://pytorch.org/hub/)\n",
        "  - Modelos de Torchvision. [https://pytorch.org/vision/0.13/models.html](https://pytorch.org/vision/0.13/models.html)\n",
        "\n",
        "Trata de explicar todos los pasos seguidos y las decisiones de diseño. Recuerda, a modo de guía, los pasos habituales:\n",
        "\n",
        "1. Adquisición de datos y carga en **Datasets**. Recomiendo aqui hacer un **EDA** para conocer bien la naturaleza del dataset.\n",
        "2. Creación de **DataLoaders**.\n",
        "3. Adaptación del modelo pre-entrenado.\n",
        "4. Definición de optimizador y función de coste apropiadas.\n",
        "5. Entrenamiento y validación.\n",
        "6. Análisis de métricas en test (las visualizaciones son bienvenidas)\n",
        "\n",
        "¡A por ello!"
      ]
    },
    {
      "cell_type": "code",
      "execution_count": null,
      "id": "723bc64b",
      "metadata": {
        "id": "723bc64b"
      },
      "outputs": [],
      "source": [
        "# Tu respuesta a partir de aquí"
      ]
    }
  ],
  "metadata": {
    "accelerator": "GPU",
    "colab": {
      "collapsed_sections": [
        "102a4ceb",
        "owTz2_yBfoxA",
        "H2Z44bB4ksDp",
        "e1280bba",
        "2af82f39",
        "e89b5d71",
        "df3db57d"
      ],
      "gpuType": "T4",
      "provenance": []
    },
    "kernelspec": {
      "display_name": ".venv",
      "language": "python",
      "name": "python3"
    },
    "language_info": {
      "codemirror_mode": {
        "name": "ipython",
        "version": 3
      },
      "file_extension": ".py",
      "mimetype": "text/x-python",
      "name": "python",
      "nbconvert_exporter": "python",
      "pygments_lexer": "ipython3",
      "version": "3.10.0"
    }
  },
  "nbformat": 4,
  "nbformat_minor": 5
}
