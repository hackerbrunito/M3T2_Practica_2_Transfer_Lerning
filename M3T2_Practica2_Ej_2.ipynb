{
 "cells": [
  {
   "cell_type": "markdown",
   "id": "8c97e320",
   "metadata": {},
   "source": [
    "## Ej 2. Problema de clasificación end-to-end (5 pts)"
   ]
  },
  {
   "cell_type": "markdown",
   "id": "03524109",
   "metadata": {},
   "source": [
    "En esta última semana se va a poner en práctica todos los conocimientos adquiridos a lo largo de este módulo: deberás desarrollar un modelo neuronal para la clasificación de imágenes de frutas que ofrezca el mayor *accuracy* posible. No hay más indicaciones o limitaciones que las siguientes:\n",
    "- El dataset a utilizar será el siguiente: [https://www.kaggle.com/datasets/sshikamaru/fruit-recognition/data](https://www.kaggle.com/datasets/sshikamaru/fruit-recognition/data).\n",
    "- Has de reutilizar un modelo neuronal utilizando PyTorch, tú decides el grado de reutilización. Ideas:\n",
    "  - Modelos de PyTorch Hub. [https://pytorch.org/hub/](https://pytorch.org/hub/)\n",
    "  - Modelos de Torchvision. [https://pytorch.org/vision/0.13/models.html](https://pytorch.org/vision/0.13/models.html)\n",
    "\n",
    "Trata de explicar todos los pasos seguidos y las decisiones de diseño. Recuerda, a modo de guía, los pasos habituales:\n",
    "\n",
    "1. Adquisición de datos y carga en **Datasets**. Recomiendo aqui hacer un **EDA** para conocer bien la naturaleza del dataset.\n",
    "2. Creación de **DataLoaders**.\n",
    "3. Adaptación del modelo pre-entrenado.\n",
    "4. Definición de optimizador y función de coste apropiadas.\n",
    "5. Entrenamiento y validación.\n",
    "6. Análisis de métricas en test (las visualizaciones son bienvenidas)\n",
    "\n",
    "¡A por ello!"
   ]
  },
  {
   "cell_type": "code",
   "execution_count": null,
   "id": "a9564c4f",
   "metadata": {},
   "outputs": [
    {
     "name": "stdout",
     "output_type": "stream",
     "text": [
      "Dispositivo disponible: cuda\n"
     ]
    }
   ],
   "source": [
    "# Importar librerías básicas\n",
    "import torch\n",
    "import torchvision\n",
    "from torchvision import datasets, transforms\n",
    "import os\n",
    "\n",
    "# Verificar si tenemos GPU disponible\n",
    "device = torch.device(\"cuda\" if torch.cuda.is_available() else \"cpu\")\n",
    "print(f\"Dispositivo disponible: {device}\")"
   ]
  },
  {
   "cell_type": "code",
   "execution_count": null,
   "id": "789177e4",
   "metadata": {},
   "outputs": [
    {
     "name": "stdout",
     "output_type": "stream",
     "text": [
      "Downloading from https://www.kaggle.com/api/v1/datasets/download/sshikamaru/fruit-recognition?dataset_version_number=2...\n"
     ]
    },
    {
     "name": "stderr",
     "output_type": "stream",
     "text": [
      "100%|██████████| 102M/102M [00:03<00:00, 30.2MB/s] "
     ]
    },
    {
     "name": "stdout",
     "output_type": "stream",
     "text": [
      "Extracting files...\n"
     ]
    },
    {
     "name": "stderr",
     "output_type": "stream",
     "text": [
      "\n"
     ]
    },
    {
     "name": "stdout",
     "output_type": "stream",
     "text": [
      "Dataset descargado en: C:\\Users\\Carlos\\.cache\\kagglehub\\datasets\\sshikamaru\\fruit-recognition\\versions\\2\n"
     ]
    }
   ],
   "source": [
    "# Descargar dataset de frutas\n",
    "import kagglehub\n",
    "\n",
    "# Descargar el dataset\n",
    "path = kagglehub.dataset_download(\"sshikamaru/fruit-recognition\")\n",
    "print(f\"Dataset descargado en: {path}\")"
   ]
  }
 ],
 "metadata": {
  "language_info": {
   "name": "python"
  }
 },
 "nbformat": 4,
 "nbformat_minor": 5
}
