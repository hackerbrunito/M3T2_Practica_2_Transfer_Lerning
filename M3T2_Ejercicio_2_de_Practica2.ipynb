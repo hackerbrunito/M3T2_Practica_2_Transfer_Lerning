{
 "cells": [
  {
   "cell_type": "markdown",
   "id": "8c97e320",
   "metadata": {},
   "source": [
    "## Ej 2. Problema de clasificación end-to-end (5 pts)"
   ]
  },
  {
   "cell_type": "markdown",
   "id": "03524109",
   "metadata": {},
   "source": [
    "En esta última semana se va a poner en práctica todos los conocimientos adquiridos a lo largo de este módulo: deberás desarrollar un modelo neuronal para la clasificación de imágenes de frutas que ofrezca el mayor *accuracy* posible. No hay más indicaciones o limitaciones que las siguientes:\n",
    "- El dataset a utilizar será el siguiente: [https://www.kaggle.com/datasets/sshikamaru/fruit-recognition/data](https://www.kaggle.com/datasets/sshikamaru/fruit-recognition/data).\n",
    "- Has de reutilizar un modelo neuronal utilizando PyTorch, tú decides el grado de reutilización. Ideas:\n",
    "  - Modelos de PyTorch Hub. [https://pytorch.org/hub/](https://pytorch.org/hub/)\n",
    "  - Modelos de Torchvision. [https://pytorch.org/vision/0.13/models.html](https://pytorch.org/vision/0.13/models.html)\n",
    "\n",
    "Trata de explicar todos los pasos seguidos y las decisiones de diseño. Recuerda, a modo de guía, los pasos habituales:\n",
    "\n",
    "1. Adquisición de datos y carga en **Datasets**. Recomiendo aqui hacer un **EDA** para conocer bien la naturaleza del dataset.\n",
    "2. Creación de **DataLoaders**.\n",
    "3. Adaptación del modelo pre-entrenado.\n",
    "4. Definición de optimizador y función de coste apropiadas.\n",
    "5. Entrenamiento y validación.\n",
    "6. Análisis de métricas en test (las visualizaciones son bienvenidas)\n",
    "\n",
    "¡A por ello!"
   ]
  },
  {
   "cell_type": "markdown",
   "id": "a6bec2e2",
   "metadata": {},
   "source": [
    "### ▶ - Preparación del entorno"
   ]
  },
  {
   "cell_type": "markdown",
   "id": "ad25fe5f",
   "metadata": {},
   "source": [
    "--> importar librerias principales"
   ]
  },
  {
   "cell_type": "code",
   "execution_count": 1,
   "id": "a9564c4f",
   "metadata": {},
   "outputs": [
    {
     "name": "stdout",
     "output_type": "stream",
     "text": [
      "Dispositivo disponible: cuda\n"
     ]
    }
   ],
   "source": [
    "import torch\n",
    "import torchvision\n",
    "import os\n",
    "\n",
    "# Verificar si tenemos GPU disponible\n",
    "device = torch.device(\"cuda\" if torch.cuda.is_available() else \"cpu\")\n",
    "print(f\"Dispositivo disponible: {device}\")"
   ]
  },
  {
   "cell_type": "markdown",
   "id": "6d427dea",
   "metadata": {},
   "source": [
    "--> descargar el dataset `fruit-recognition` de kagglehub"
   ]
  },
  {
   "cell_type": "code",
   "execution_count": 2,
   "id": "789177e4",
   "metadata": {},
   "outputs": [
    {
     "name": "stdout",
     "output_type": "stream",
     "text": [
      "Dataset descargado en: C:\\Users\\Carlos\\.cache\\kagglehub\\datasets\\sshikamaru\\fruit-recognition\\versions\\2\n"
     ]
    }
   ],
   "source": [
    "import kagglehub\n",
    "\n",
    "# Descargar el dataset\n",
    "path = kagglehub.dataset_download(\"sshikamaru/fruit-recognition\")\n",
    "print(f\"Dataset descargado en: {path}\")"
   ]
  },
  {
   "cell_type": "markdown",
   "id": "b81e8ca3",
   "metadata": {},
   "source": [
    "### ▶ - Exploratory Data Analysis ( EDA )\n",
    "\n",
    "--> PASO 1: Exploración y Análisis del Dataset de Frutas"
   ]
  },
  {
   "cell_type": "code",
   "execution_count": 3,
   "id": "349e4636",
   "metadata": {},
   "outputs": [
    {
     "name": "stdout",
     "output_type": "stream",
     "text": [
      "🔍 Exploración Dataset\n",
      "¨¨¨¨¨¨¨¨¨¨¨¨¨¨¨¨¨¨¨¨¨¨¨¨¨¨¨¨¨¨¨¨¨¨¨¨¨¨¨¨\n",
      "Dataset: 2\n",
      "📁 -test/ (1 elementos)\n",
      "-> 📂 -test/ (5641 items)\n",
      "📁 -train/ (1 elementos)\n",
      "-> 📂 -train/ (33 items)\n"
     ]
    }
   ],
   "source": [
    "# Exploración con pathlib\n",
    "from pathlib import Path\n",
    "\n",
    "print(\"🔍 Exploración Dataset\")\n",
    "print(\"¨\" * 40)\n",
    "\n",
    "dataset_path = Path(path)\n",
    "print(f\"Dataset: {dataset_path.name}\")\n",
    "\n",
    "# Explorar estructura\n",
    "for item in dataset_path.iterdir():\n",
    "    if item.is_dir():\n",
    "        subdirs = list(item.iterdir())\n",
    "        print(f\"📁 -{item.name}/ ({len(subdirs)} elementos)\")\n",
    "        \n",
    "        # Mostrar primeros 3 subdirectorios\n",
    "        for subdir in subdirs[:3]:\n",
    "            if subdir.is_dir():\n",
    "                count = len(list(subdir.iterdir()))\n",
    "                print(f\"-> 📂 -{subdir.name}/ ({count} items)\")"
   ]
  },
  {
   "cell_type": "markdown",
   "id": "7ee593c8",
   "metadata": {},
   "source": [
    "--> PASO 2: Análisis Profundo de la Estructura"
   ]
  },
  {
   "cell_type": "code",
   "execution_count": null,
   "id": "07a3578d",
   "metadata": {},
   "outputs": [
    {
     "name": "stdout",
     "output_type": "stream",
     "text": [
      " Análisis Exploratorio completo\n",
      "==================================================\n",
      " Conjunto de Entrenamiento:\n",
      "¨¨¨¨¨¨¨¨¨¨¨¨¨¨¨¨¨¨¨¨¨¨¨¨¨¨¨¨¨¨¨¨¨¨¨¨¨¨¨¨¨¨¨¨¨¨¨¨¨¨\n",
      "   Total clases: 33\n",
      "   Total imágenes: 16854\n",
      "   Promedio por clase: 510\n",
      "   Rango: 392 - 984 imágenes\n"
     ]
    },
    {
     "name": "stderr",
     "output_type": "stream",
     "text": [
      "Exception ignored in: <function _MultiProcessingDataLoaderIter.__del__ at 0x0000018FDD0337F0>\n",
      "Traceback (most recent call last):\n",
      "  File \"c:\\DL_projects\\.venv\\lib\\site-packages\\torch\\utils\\data\\dataloader.py\", line 1604, in __del__\n",
      "    self._shutdown_workers()\n",
      "  File \"c:\\DL_projects\\.venv\\lib\\site-packages\\torch\\utils\\data\\dataloader.py\", line 1562, in _shutdown_workers\n",
      "    if self._persistent_workers or self._workers_status[worker_id]:\n",
      "AttributeError: '_MultiProcessingDataLoaderIter' object has no attribute '_workers_status'\n"
     ]
    },
    {
     "name": "stdout",
     "output_type": "stream",
     "text": [
      "\n",
      " Conjunto de TEst:\n",
      "¨¨¨¨¨¨¨¨¨¨¨¨¨¨¨¨¨¨¨¨¨¨¨¨¨¨¨¨¨¨¨¨¨¨¨¨¨¨¨¨¨¨¨¨¨¨¨¨¨¨\n",
      "    Total imágenes: 5641 (sin etiquetar)\n",
      "\n",
      " Resumen Dataset:\n",
      "¨¨¨¨¨¨¨¨¨¨¨¨¨¨¨¨¨¨¨¨¨¨¨¨¨¨¨¨¨¨¨¨¨¨¨¨¨¨¨¨¨¨¨¨¨¨¨¨¨¨\n",
      "  Dataset total: 22495 imágenes\n",
      "  Distribución: 16854 train + 5641 test\n",
      "  Clases disponibles: 33 tipos de frutas\n",
      "\n",
      " Lista total de clases:\n",
      "¨¨¨¨¨¨¨¨¨¨¨¨¨¨¨¨¨¨¨¨¨¨¨¨¨¨¨¨¨¨¨¨¨¨¨¨¨¨¨¨¨¨¨¨¨¨¨¨¨¨\n",
      "  - Apple Braeburn: 492 imágenes\n",
      "  - Apple Granny Smith: 492 imágenes\n",
      "  - Apricot: 492 imágenes\n",
      "  - Avocado: 427 imágenes\n",
      "  - Banana: 490 imágenes\n",
      "  - Blueberry: 462 imágenes\n",
      "  - Cactus fruit: 490 imágenes\n",
      "  - Cantaloupe: 492 imágenes\n",
      "  - Cherry: 492 imágenes\n",
      "  - Clementine: 490 imágenes\n",
      "  - Corn: 450 imágenes\n",
      "  - Cucumber Ripe: 392 imágenes\n",
      "  - Grape Blue: 984 imágenes\n",
      "  - Kiwi: 466 imágenes\n",
      "  - Lemon: 492 imágenes\n",
      "  - Limes: 490 imágenes\n",
      "  - Mango: 490 imágenes\n",
      "  - Onion White: 438 imágenes\n",
      "  - Orange: 479 imágenes\n",
      "  - Papaya: 492 imágenes\n",
      "  - Passion Fruit: 490 imágenes\n",
      "  - Peach: 492 imágenes\n",
      "  - Pear: 696 imágenes\n",
      "  - Pepper Green: 444 imágenes\n",
      "  - Pepper Red: 666 imágenes\n",
      "  - Pineapple: 490 imágenes\n",
      "  - Plum: 447 imágenes\n",
      "  - Pomegranate: 492 imágenes\n",
      "  - Potato Red: 450 imágenes\n",
      "  - Raspberry: 490 imágenes\n",
      "  - Strawberry: 492 imágenes\n",
      "  - Tomato: 738 imágenes\n",
      "  - Watermelon: 475 imágenes\n"
     ]
    }
   ],
   "source": [
    "# Exploración completa del dataset\n",
    "\n",
    "dataset_root = Path(path)\n",
    "print(\" Análisis Exploratorio completo\")\n",
    "print(\"=\" * 50)\n",
    "\n",
    "# Rutas principales\n",
    "train_path = dataset_root / \"train\" / \"train\"\n",
    "test_path = dataset_root / \"test\" / \"test\"\n",
    "\n",
    "# Análisis del conjunto de entrenamiento\n",
    "print(\" Conjunto de Entrenamiento:\")\n",
    "print(\"¨\" * 50)\n",
    "train_total = 0\n",
    "classes = []\n",
    "\n",
    "for class_dir in sorted(train_path.iterdir()):\n",
    "    if class_dir.is_dir():\n",
    "        count = len([f for f in class_dir.iterdir() if f.suffix.lower() in ['.jpg', '.jpeg', '.png']])\n",
    "        classes.append((class_dir.name, count))\n",
    "        train_total += count\n",
    "\n",
    "print(f\"   Total clases: {len(classes)}\")\n",
    "print(f\"   Total imágenes: {train_total}\")\n",
    "print(f\"   Promedio por clase: {train_total // len(classes)}\")\n",
    "print(f\"   Rango: {min(c[1] for c in classes)} - {max(c[1] for c in classes)} imágenes\")\n",
    "\n",
    "# Análisis del conjunto de test\n",
    "test_count = len([f for f in test_path.iterdir() if f.suffix.lower() in ['.jpg', '.jpeg', '.png']])\n",
    "print(f\"\\n Conjunto de TEst:\")\n",
    "print(\"¨\" * 50)\n",
    "print(f\"    Total imágenes: {test_count} (sin etiquetar)\")\n",
    "\n",
    "# Resumen\n",
    "print(f\"\\n Resumen Dataset:\")\n",
    "print(\"¨\" * 50)\n",
    "print(f\"  Dataset total: {train_total + test_count} imágenes\")\n",
    "print(f\"  Distribución: {train_total} train + {test_count} test\")\n",
    "print(f\"  Clases disponibles: {len(classes)} tipos de frutas\")\n",
    "\n",
    "# Mostrar clases\n",
    "print(f\"\\n Lista total de clases:\")\n",
    "print(\"¨\" * 50)\n",
    "for name, count in classes:\n",
    "    print(f\"  - {name}: {count} imágenes\")\n",
    "# print(f\"  Hay {len(classes)} clases en total\") no sirve"
   ]
  },
  {
   "cell_type": "markdown",
   "id": "0dfee036",
   "metadata": {},
   "source": [
    "--> PASO 3: División de la carpeta Train en --> Train/Val para entrenamiento y Validación\n",
    "\n",
    "No hay carpeta de Val, Valid o Validation."
   ]
  },
  {
   "cell_type": "code",
   "execution_count": 5,
   "id": "5fbb549e",
   "metadata": {},
   "outputs": [
    {
     "name": "stdout",
     "output_type": "stream",
     "text": [
      " => División Train/Validation\n",
      "==================================================\n",
      "Dataset completo: 16854 imágenes\n",
      "Clases encontradas: 33\n",
      "\n",
      " -> División realizada: 80/20\n",
      "¨¨¨¨¨¨¨¨¨¨¨¨¨¨¨¨¨¨¨¨¨¨¨¨¨¨¨¨¨¨¨¨¨¨¨¨¨¨¨¨¨¨¨¨¨¨¨¨¨¨\n",
      "  Train: 13483 imágenes (80.0%)\n",
      "  Validation: 3371 imágenes (20.0%)\n",
      "\n",
      " -> Todas las clases del dataset:\n",
      "¨¨¨¨¨¨¨¨¨¨¨¨¨¨¨¨¨¨¨¨¨¨¨¨¨¨¨¨¨¨¨¨¨¨¨¨¨¨¨¨¨¨¨¨¨¨¨¨¨¨\n",
      "  0: Apple Braeburn\n",
      "  1: Apple Granny Smith\n",
      "  2: Apricot\n",
      "  3: Avocado\n",
      "  4: Banana\n",
      "  5: Blueberry\n",
      "  6: Cactus fruit\n",
      "  7: Cantaloupe\n",
      "  8: Cherry\n",
      "  9: Clementine\n",
      "  10: Corn\n",
      "  11: Cucumber Ripe\n",
      "  12: Grape Blue\n",
      "  13: Kiwi\n",
      "  14: Lemon\n",
      "  15: Limes\n",
      "  16: Mango\n",
      "  17: Onion White\n",
      "  18: Orange\n",
      "  19: Papaya\n",
      "  20: Passion Fruit\n",
      "  21: Peach\n",
      "  22: Pear\n",
      "  23: Pepper Green\n",
      "  24: Pepper Red\n",
      "  25: Pineapple\n",
      "  26: Plum\n",
      "  27: Pomegranate\n",
      "  28: Potato Red\n",
      "  29: Raspberry\n",
      "  30: Strawberry\n",
      "  31: Tomato\n",
      "  32: Watermelon\n",
      "\n",
      " -> División completada - Variables: train_dataset, val_dataset\n"
     ]
    }
   ],
   "source": [
    "# División del dataset de entrenamiento en train/validation\n",
    "from torch.utils.data import random_split\n",
    "from torchvision import datasets, transforms\n",
    "\n",
    "print(\" => División Train/Validation\")\n",
    "print(\"=\" * 50)\n",
    "\n",
    "# Transformación básica para cargar el dataset\n",
    "basic_transform = transforms.Compose([\n",
    "    transforms.Resize((224, 224)),\n",
    "    transforms.ToTensor()\n",
    "])\n",
    "\n",
    "# Cargar dataset completo de entrenamiento\n",
    "full_train_dataset = datasets.ImageFolder(root=train_path, transform=basic_transform)\n",
    "print(f\"Dataset completo: {len(full_train_dataset)} imágenes\")\n",
    "print(f\"Clases encontradas: {len(full_train_dataset.classes)}\")\n",
    "\n",
    "# Dividir en train (80%) y validation (20%)\n",
    "train_size = int(0.8 * len(full_train_dataset)) # obtener el 80%\n",
    "val_size = len(full_train_dataset) - train_size # asignar el 20% a Validación\n",
    "train_dataset, val_dataset = random_split(full_train_dataset, [train_size, val_size]) # separar en train 80% y val 20%\n",
    "\n",
    "print(f\"\\n -> División realizada: 80/20\")\n",
    "print(\"¨\" * 50)\n",
    "print(f\"  Train: {train_size} imágenes ({train_size/len(full_train_dataset)*100:.1f}%)\")\n",
    "print(f\"  Validation: {val_size} imágenes ({val_size/len(full_train_dataset)*100:.1f}%)\")\n",
    "\n",
    "# Mostrar todas las clases disponibles\n",
    "print(f\"\\n -> Todas las clases del dataset:\")\n",
    "print(\"¨\" * 50)\n",
    "for i, class_name in enumerate(full_train_dataset.classes):\n",
    "    print(f\"  {i}: {class_name}\")\n",
    "\n",
    "print(f\"\\n -> División completada - Variables: train_dataset, val_dataset\")"
   ]
  },
  {
   "cell_type": "markdown",
   "id": "b6df85a6",
   "metadata": {},
   "source": [
    "### ▶ - DataLoaders\n",
    "\n",
    "--> PASO 4: Creación de DataLoaders"
   ]
  },
  {
   "cell_type": "code",
   "execution_count": 6,
   "id": "95ba29f2",
   "metadata": {},
   "outputs": [
    {
     "name": "stdout",
     "output_type": "stream",
     "text": [
      " => Definición de Transformaciones\n",
      "==================================================\n",
      " -> Transformaciones definidas:\n",
      "¨¨¨¨¨¨¨¨¨¨¨¨¨¨¨¨¨¨¨¨¨¨¨¨¨¨¨¨¨¨¨¨¨¨¨¨¨¨¨¨¨¨¨¨¨¨¨¨¨¨\n",
      "  Train: Resize + Flip + Rotation + ColorJitter + Normalize\n",
      "  Val: Resize + Normalize\n"
     ]
    }
   ],
   "source": [
    "# Definir transformaciones para Train y Validation\n",
    "\n",
    "\n",
    "print(\" => Definición de Transformaciones\")\n",
    "print(\"=\" * 50)\n",
    "\n",
    "# Transformaciones para entrenamiento (con data augmentation)\n",
    "transform_train = transforms.Compose([\n",
    "    transforms.Resize((224, 224)),\n",
    "    transforms.RandomHorizontalFlip(p=0.5),\n",
    "    transforms.RandomRotation(10),\n",
    "    transforms.ColorJitter(brightness=0.2, contrast=0.2),\n",
    "    transforms.ToTensor(),\n",
    "    transforms.Normalize(mean=[0.485, 0.456, 0.406], std=[0.229, 0.224, 0.225])\n",
    "])\n",
    "\n",
    "# Transformaciones para validación (sin augmentation)\n",
    "transform_val = transforms.Compose([\n",
    "    transforms.Resize((224, 224)),\n",
    "    transforms.ToTensor(),\n",
    "    transforms.Normalize(mean=[0.485, 0.456, 0.406], std=[0.229, 0.224, 0.225])\n",
    "])\n",
    "\n",
    "print(\" -> Transformaciones definidas:\")\n",
    "print(\"¨\" * 50)\n",
    "print(\"  Train: Resize + Flip + Rotation + ColorJitter + Normalize\")\n",
    "print(\"  Val: Resize + Normalize\")"
   ]
  },
  {
   "cell_type": "markdown",
   "id": "2f1eaaac",
   "metadata": {},
   "source": [
    "--> Aplicar transformaciones y cargar los `DataLoaders`"
   ]
  },
  {
   "cell_type": "code",
   "execution_count": 7,
   "id": "2adf4769",
   "metadata": {},
   "outputs": [
    {
     "name": "stdout",
     "output_type": "stream",
     "text": [
      " => Creación de DataLoaders\n",
      "==================================================\n",
      "\n",
      "  DataLoaders creados exitosamente\n",
      "\n",
      "¨¨¨¨¨¨¨¨¨¨¨¨¨¨¨¨¨¨¨¨¨¨¨¨¨¨¨¨¨¨¨¨¨¨¨¨¨¨¨¨¨¨¨¨¨¨¨¨¨¨\n"
     ]
    }
   ],
   "source": [
    "from torch.utils.data import DataLoader\n",
    "\n",
    "print(\" => Creación de DataLoaders\")\n",
    "print(\"=\" * 50)\n",
    "\n",
    "# Aplicar transformaciones a los datasets\n",
    "train_dataset.dataset.transform = transform_train\n",
    "val_dataset.dataset.transform = transform_val\n",
    "\n",
    "# Crear DataLoaders (configuración óptima para el hardware de mi laptop: batch = 64, workers = 6)\n",
    "batch_size = 64\n",
    "workers = 6\n",
    "train_loader = DataLoader(train_dataset, batch_size=batch_size, shuffle=True, num_workers=workers)\n",
    "val_loader = DataLoader(val_dataset, batch_size=batch_size, shuffle=False, num_workers=workers)\n",
    "\n",
    "print(\"\\n  DataLoaders creados exitosamente\\n\")\n",
    "print(\"¨\" * 50)"
   ]
  },
  {
   "cell_type": "markdown",
   "id": "27f0340e",
   "metadata": {},
   "source": [
    "Verificar / Resumir el código anterior"
   ]
  },
  {
   "cell_type": "code",
   "execution_count": null,
   "id": "ab06c767",
   "metadata": {},
   "outputs": [
    {
     "name": "stdout",
     "output_type": "stream",
     "text": [
      " => Resumen DataLoaders\n",
      "================================================== \n",
      "\n",
      "   1. Batch size: 64\n",
      "   2. Train batches: 211\n",
      "   3. Val batches: 53\n",
      "   4. Train shuffle: True\n",
      "   5. Val shuffle: False\n",
      "   6. Num workers: 6\n",
      "\n",
      "¨¨¨¨¨¨¨¨¨¨¨¨¨¨¨¨¨¨¨¨¨¨¨¨¨¨¨¨¨¨¨¨¨¨¨¨¨¨¨¨¨¨¨¨¨¨¨¨¨¨\n",
      "\n",
      " Variables disponibles: train_loader, val_loader\n",
      "\n",
      "¨¨¨¨¨¨¨¨¨¨¨¨¨¨¨¨¨¨¨¨¨¨¨¨¨¨¨¨¨¨¨¨¨¨¨¨¨¨¨¨¨¨¨¨¨¨¨¨¨¨\n"
     ]
    }
   ],
   "source": [
    "\n",
    "print(\" => Resumen DataLoaders\")\n",
    "print(f\"{'=' * 50} \\n\")\n",
    "\n",
    "# creación Lista para numerarla en el bucle for\n",
    "summary = [\n",
    "    f\"Batch size: {batch_size}\",\n",
    "    f\"Train batches: {len(train_loader)}\",\n",
    "    f\"Val batches: {len(val_loader)}\",\n",
    "    f\"Train shuffle: True\",\n",
    "    f\"Val shuffle: False\",\n",
    "    f\"Num workers: {workers}\"\n",
    "]\n",
    "\n",
    "contador = 0\n",
    "# Imprimir cada elemento\n",
    "for info in summary:\n",
    "    contador += 1\n",
    "    print(f\"   {str(contador)}. {info}\")\n",
    "print(f\"\\n{'¨' * 50}\")\n",
    "print(f\"\\n Variables disponibles: train_loader, val_loader\")\n",
    "print(f\"\\n{'¨' * 50}\")"
   ]
  },
  {
   "cell_type": "markdown",
   "id": "e9b42103",
   "metadata": {},
   "source": [
    "### ▶ - Adaptación modelo pre-entrenado\n",
    "\n",
    "--> PASO 5: Carga del modelo pre-entrenado MobileNetV3\n",
    "\n",
    "<table>\n",
    "<tr><td>\n",
    "\n",
    "#### fuente\n",
    "</td>\n",
    "</tr>\n",
    "\n",
    "<tr>\n",
    "<td>\n",
    "\n",
    "Paper: \"A deep CNN approach to detect and classify local fruits through a web interface\" A deep CNN approach to detect and classify local fruits through a web interface - ScienceDirect\n",
    "Journal: ScienceDirect\n",
    "URL: https://www.sciencedirect.com/science/article/pii/S2772375523001508\n",
    "\n",
    "\n",
    "ResNet-50, VGG-19, Inception-V3, and MobileNet were utilized to achieve more precise feature extraction. Among these, MobileNet achieved 99.21% accuracy in feature extraction, outperforming previously proposed machine learning techniques A deep CNN approach to detect and classify local fruits through a web interface - ScienceDirect\n",
    "\n",
    "</td>\n",
    "</tr><tr>\n",
    "<td>\n",
    "\n",
    "según esto parece que MobileNetV3 podría conseguir un resultado más favorable que con el modelo del Ejercicio 1\n",
    "\n",
    "</td>\n",
    "</tr>\n",
    "</table>"
   ]
  },
  {
   "cell_type": "code",
   "execution_count": 13,
   "id": "0445aecd",
   "metadata": {},
   "outputs": [
    {
     "name": "stdout",
     "output_type": "stream",
     "text": [
      " => Carga del Modelo Pre-entrenado MobileNetV3\n",
      "==================================================\n",
      "\n",
      " El dispositivo en device es: cuda\n",
      " GPU detectada: NVIDIA GeForce RTX 3060 Laptop GPU\n",
      "\n",
      "¨¨¨¨¨¨¨¨¨¨¨¨¨¨¨¨¨¨¨¨¨¨¨¨¨¨¨¨¨¨¨¨¨¨¨¨¨¨¨¨¨¨¨¨¨¨¨¨¨¨\n",
      " Modelo base: >>> MobileNetV3-Large <<<\n",
      " Pre-entrenado en: ImageNet\n",
      "\n",
      "¨¨¨¨¨¨¨¨¨¨¨¨¨¨¨¨¨¨¨¨¨¨¨¨¨¨¨¨¨¨¨¨¨¨¨¨¨¨¨¨¨¨¨¨¨¨¨¨¨¨\n",
      " Parámetros totales: 5,483,032\n",
      " Parámetros congelados: Feature extraction layers\n",
      " Parámetros entrenables: Solo classifier final\n",
      "\n",
      "¨¨¨¨¨¨¨¨¨¨¨¨¨¨¨¨¨¨¨¨¨¨¨¨¨¨¨¨¨¨¨¨¨¨¨¨¨¨¨¨¨¨¨¨¨¨¨¨¨¨\n",
      "\n",
      " => Estructura original del clasificador:\n",
      "\n",
      "¨¨¨¨¨¨¨¨¨¨¨¨¨¨¨¨¨¨¨¨¨¨¨¨¨¨¨¨¨¨¨¨¨¨¨¨¨¨¨¨¨¨¨¨¨¨¨¨¨¨\n",
      " Clasificador original: Sequential(\n",
      "  (0): Linear(in_features=960, out_features=1280, bias=True)\n",
      "  (1): Hardswish()\n",
      "  (2): Dropout(p=0.2, inplace=True)\n",
      "  (3): Linear(in_features=1280, out_features=1000, bias=True)\n",
      ")\n",
      " Entrada: 960 features\n",
      " Salida original: 1000 clases (ImageNet)\n",
      "\n",
      "¨¨¨¨¨¨¨¨¨¨¨¨¨¨¨¨¨¨¨¨¨¨¨¨¨¨¨¨¨¨¨¨¨¨¨¨¨¨¨¨¨¨¨¨¨¨¨¨¨¨\n"
     ]
    }
   ],
   "source": [
    "# PASO 5: Carga del modelo MobileNetV3 pre-entrenado\n",
    "import torch.nn as nn\n",
    "from torchvision import models\n",
    "\n",
    "print(\" => Carga del Modelo Pre-entrenado MobileNetV3\")\n",
    "print(\"=\" * 50)\n",
    "\n",
    "# Verificar dispositivo disponible\n",
    "print()\n",
    "device = torch.device(\"cuda\" if torch.cuda.is_available() else \"cpu\")\n",
    "print(f\" El dispositivo en device es: {device}\")\n",
    "print(f\" GPU detectada: {torch.cuda.get_device_name(0)}\")\n",
    "print(f\"\\n{'¨' * 50}\")\n",
    "# Cargar MobileNetV3-Large pre-entrenado\n",
    "model = models.mobilenet_v3_large(weights='IMAGENET1K_V1')\n",
    "print(f\" Modelo base: >>> MobileNetV3-Large <<<\")\n",
    "print(f\" Pre-entrenado en: ImageNet\")\n",
    "print(f\"\\n{'¨' * 50}\")\n",
    "# Obtener información del modelo\n",
    "num_params = sum(p.numel() for p in model.parameters())\n",
    "print(f\" Parámetros totales: {num_params:,}\")\n",
    "\n",
    "# Congelar parámetros del feature extractor\n",
    "for param in model.features.parameters():\n",
    "    param.requires_grad = False\n",
    "\n",
    "print(f\" Parámetros congelados: Feature extraction layers\")\n",
    "print(f\" Parámetros entrenables: Solo classifier final\")\n",
    "print(f\"\\n{'¨' * 50}\")\n",
    "# Verificar estructura del clasificador original\n",
    "print(f\"\\n => Estructura original del clasificador:\")\n",
    "print(f\"\\n{'¨' * 50}\")\n",
    "print(f\" Clasificador original: {model.classifier}\")\n",
    "print(f\" Entrada: {model.classifier[0].in_features} features\")  \n",
    "print(f\" Salida original: {model.classifier[-1].out_features} clases (ImageNet)\")\n",
    "\n",
    "print(f\"\\n{'¨' * 50}\")\n"
   ]
  },
  {
   "cell_type": "markdown",
   "id": "0547eb02",
   "metadata": {},
   "source": [
    "### ▶ - Definición de optimizador y función de coste:\n",
    "\n",
    "-> PASO 6: Modifcar clasificador para 36 frutas"
   ]
  },
  {
   "cell_type": "code",
   "execution_count": null,
   "id": "34456a4d",
   "metadata": {},
   "outputs": [
    {
     "name": "stdout",
     "output_type": "stream",
     "text": [
      "=> Modificación del Clasificador\n",
      "==================================================\n",
      "\n",
      "> Clases en nuestro dataset: 33\n",
      "> Clasificador modificado a 33:\n",
      "\n",
      "¨¨¨¨¨¨¨¨¨¨¨¨¨¨¨¨¨¨¨¨¨¨¨¨¨¨¨¨¨¨¨¨¨¨¨¨¨¨¨¨¨¨¨¨¨¨¨¨¨¨\n",
      "- Entrada: 960 features\n",
      "- Salida: 33 clases (total frutas)\n",
      "\n",
      "¨¨¨¨¨¨¨¨¨¨¨¨¨¨¨¨¨¨¨¨¨¨¨¨¨¨¨¨¨¨¨¨¨¨¨¨¨¨¨¨¨¨¨¨¨¨¨¨¨¨\n",
      "\n",
      "Modelo movido a device: cuda\n",
      "\n",
      "=> Modelo listo para entrenamiento en Variable: model\n"
     ]
    }
   ],
   "source": [
    "print(\"=> Modificación del Clasificador\")\n",
    "print(\"=\" * 50)\n",
    "\n",
    "# Reemplazar el clasificador final para 33 clases\n",
    "num_classes = len(classes)  # 33 frutas\n",
    "print()\n",
    "print(f\"> Clases en nuestro dataset: {num_classes}\")\n",
    "\n",
    "# Crear nuevo clasificador\n",
    "model.classifier = nn.Sequential(\n",
    "    nn.Linear(960, 1280),           # Mantener primera capa\n",
    "    nn.Hardswish(),                 # Mantener activación\n",
    "    nn.Dropout(0.2),                # Mantener dropout\n",
    "    nn.Linear(1280, num_classes)    # CAMBIAR: 1000 → 33 clases\n",
    ")\n",
    "\n",
    "print(f\"> Clasificador modificado a 33:\")\n",
    "print(f\"\\n{'¨' * 50}\")\n",
    "print(f\"- Entrada: 960 features\")\n",
    "print(f\"- Salida: {num_classes} clases (total frutas)\")\n",
    "\n",
    "# Mover modelo a GPU\n",
    "print(f\"\\n{'¨' * 50}\")\n",
    "model = model.to(device)\n",
    "print(f\"\\nModelo movido a device: {device}\")\n",
    "\n",
    "print(f\"\\n=> Modelo listo para entrenamiento en Variable: model\")"
   ]
  },
  {
   "cell_type": "markdown",
   "id": "c88fb5a6",
   "metadata": {},
   "source": [
    "--> PASO 7: Configuración de Optimización (Optimizer + Loss + Scheduler)"
   ]
  },
  {
   "cell_type": "code",
   "execution_count": 45,
   "id": "6210a611",
   "metadata": {},
   "outputs": [
    {
     "name": "stdout",
     "output_type": "stream",
     "text": [
      " => Configuración de Optimización\n",
      "==================================================\n",
      "\n",
      " Optimizer: Adam\n",
      " Learning rate: 0.001\n",
      " La funcion de coste es: CrossEntropyLoss() \n",
      " Scheduler: ReduceLROnPlateau (patience=3)\n",
      "\n",
      " => Optimización configurada\n"
     ]
    }
   ],
   "source": [
    "import torch.optim as optim\n",
    "\n",
    "print(\" => Configuración de Optimización\")\n",
    "print(\"=\" * 50)\n",
    "\n",
    "# Configurar optimizer (solo entrena el clasificador)\n",
    "learning_rate = 0.001\n",
    "optimizer = optim.Adam(model.classifier.parameters(), lr=learning_rate)\n",
    "print()\n",
    "print(f\" Optimizer: Adam\")\n",
    "print(f\" Learning rate: {learning_rate}\")\n",
    "\n",
    "# Configurar la Funcion de Coste = loss function\n",
    "criterion = nn.CrossEntropyLoss()\n",
    "print(f\" La funcion de coste es: {criterion} \")\n",
    "\n",
    "# Configurar scheduler para reducir LR automáticamente\n",
    "scheduler = optim.lr_scheduler.ReduceLROnPlateau(optimizer, mode='min', patience=3, factor=0.5)\n",
    "print(f\" Scheduler: ReduceLROnPlateau (patience=3)\")\n",
    "\n",
    "print(f\"\\n => Optimización configurada\")"
   ]
  },
  {
   "cell_type": "markdown",
   "id": "2a83c847",
   "metadata": {},
   "source": [
    "### ▶ - Entrenamiento y validación\n",
    "\n",
    "#### En este paso aprovecho las funciones para crear los checkpoint y las funciones de carga del Training y Test_and_validation\n",
    "\n",
    "--> Funciones para los `CheckPoint`"
   ]
  },
  {
   "cell_type": "code",
   "execution_count": null,
   "id": "d5da51f1",
   "metadata": {},
   "outputs": [
    {
     "name": "stdout",
     "output_type": "stream",
     "text": [
      "Funciones de checkpoint exactas del ejercicio 1 creadas ✓\n"
     ]
    }
   ],
   "source": [
    "def save_checkpoint(path, model, optimizer):\n",
    "    \n",
    "    if not path.endswith(\".pth\"):\n",
    "        print(\"El checkpoint debe tener formato .pth\")\n",
    "        return\n",
    "    \n",
    "    checkpoint = {\n",
    "        'model_state_dict': model.state_dict(),\n",
    "        'optimizer_state_dict': optimizer.state_dict()\n",
    "    }\n",
    "    \n",
    "    torch.save(checkpoint, path)\n",
    "    print(f\"Checkpoint guardado en: {path}\")\n",
    "\n",
    "\n",
    "def load_checkpoint(path, model, optimizer):\n",
    "    if not path.endswith(\".pth\"):\n",
    "        print(\"El checkpoint debe tener formato .pth\")\n",
    "        return\n",
    "    \n",
    "    checkpoint = torch.load(path)\n",
    "    model.load_state_dict(checkpoint['model_state_dict'])\n",
    "    optimizer.load_state_dict(checkpoint['optimizer_state_dict'])\n",
    "    \n",
    "    print(f\"Checkpoint cargado desde: {path}\")\n",
    "    return model, optimizer\n",
    "\n",
    "print(\"Funciones de checkpoint exactas del ejercicio 1 creadas ✓\")"
   ]
  },
  {
   "cell_type": "markdown",
   "id": "d15ddf45",
   "metadata": {},
   "source": [
    "--> Función para cargar el `Training`"
   ]
  },
  {
   "cell_type": "code",
   "execution_count": null,
   "id": "6366bcd4",
   "metadata": {},
   "outputs": [
    {
     "name": "stdout",
     "output_type": "stream",
     "text": [
      "Función training creada ✓\n"
     ]
    }
   ],
   "source": [
    "def training(dataloader, model, loss_fn, optimizer):\n",
    "\n",
    "    model.train() # Indicamos al modelo que vamos a entrenar\n",
    "\n",
    "    num_batches = len(dataloader) # Número de batches para promediar el loss\n",
    "    size = len(dataloader.dataset)\n",
    "\n",
    "    train_loss, correct = 0, 0\n",
    "\n",
    "    for batch, (X, y) in enumerate(dataloader): # Iteramos por los distintos batches creados en el dataloader\n",
    "\n",
    "        X = X.to(device)\n",
    "        y = y.to(device)\n",
    "\n",
    "        # Compute prediction and loss\n",
    "        pred = model(X) # Calculamos el forward pass\n",
    "        loss = loss_fn(pred, y) # Calculamos el loss\n",
    "\n",
    "        _,predicted=torch.max(pred,1)\n",
    "        correct+=(y==predicted).sum().item()\n",
    "\n",
    "        # Backpropagation\n",
    "        optimizer.zero_grad() # Limpiamos los gradientes viejos\n",
    "        loss.backward() # Calculamos los nuevos gradientes\n",
    "        optimizer.step() # Actualizamos los parámetros (pesos) del modelo\n",
    "\n",
    "        train_loss += loss.item()\n",
    "\n",
    "    correct /= size\n",
    "    avg_train_loss = train_loss/num_batches\n",
    "    accuracy = 100*correct\n",
    "    print(f\"Train Metrics: \\n Accuracy: {accuracy:>0.1f}%, Avg train loss: {avg_train_loss:>8f}\\n\")\n",
    "    return avg_train_loss, accuracy\n",
    "\n",
    "print(\"Función training creada ✓\")"
   ]
  },
  {
   "cell_type": "markdown",
   "id": "c2fae711",
   "metadata": {},
   "source": [
    "--> Función de `Test & Validation`"
   ]
  },
  {
   "cell_type": "code",
   "execution_count": null,
   "id": "6fcb60d9",
   "metadata": {},
   "outputs": [
    {
     "name": "stdout",
     "output_type": "stream",
     "text": [
      "Función test_and_validation creada ✓\n"
     ]
    }
   ],
   "source": [
    "def test_and_validation(dataloader, model, loss_fn):\n",
    "\n",
    "    model.eval() # Indicamos que no vamos a entrenar\n",
    "\n",
    "    test_loss, correct = 0, 0\n",
    "    size = len(dataloader.dataset)\n",
    "    num_batches = len(dataloader)\n",
    "\n",
    "    with torch.no_grad():\n",
    "        for X, y in dataloader:\n",
    "            X = X.to(device)\n",
    "            y = y.to(device)\n",
    "            pred = model(X)\n",
    "            test_loss += loss_fn(pred, y).item()\n",
    "            _,predicted=torch.max(pred,1)\n",
    "            correct+=(y==predicted).sum().item()\n",
    "\n",
    "    test_loss /= num_batches\n",
    "    correct /= size\n",
    "\n",
    "    avg_loss = test_loss\n",
    "    accuracy = 100*correct\n",
    "    print(f\"Val or Test Metrics: \\n Accuracy: {accuracy:>0.1f}%, Avg loss: {avg_loss:>8f} \\n\")\n",
    "    return avg_loss, accuracy\n",
    "\n",
    "print(\"Función test_and_validation creada ✓\")"
   ]
  },
  {
   "cell_type": "markdown",
   "id": "bfdb44cb",
   "metadata": {},
   "source": [
    "-->> entrenamiento de 4 Epochs"
   ]
  },
  {
   "cell_type": "code",
   "execution_count": null,
   "id": "1b926ec7",
   "metadata": {},
   "outputs": [
    {
     "name": "stdout",
     "output_type": "stream",
     "text": [
      "\n",
      "-------------------------------\n",
      "  ==> Epoch - 1\n",
      "-------------------------------\n",
      "\n",
      "Train Metrics: \n",
      " Accuracy: 96.5%, Avg train loss: 0.173987\n",
      "\n",
      "Val or Test Metrics: \n",
      " Accuracy: 99.7%, Avg loss: 0.015715 \n",
      "\n",
      "Checkpoint guardado en: checkpoint_epoch_1.pth\n",
      "\n",
      "-------------------------------\n",
      "\n",
      "\n",
      "-------------------------------\n",
      "  ==> Epoch - 2\n",
      "-------------------------------\n",
      "\n",
      "Train Metrics: \n",
      " Accuracy: 99.9%, Avg train loss: 0.004813\n",
      "\n",
      "Val or Test Metrics: \n",
      " Accuracy: 99.9%, Avg loss: 0.002420 \n",
      "\n",
      "Checkpoint guardado en: checkpoint_epoch_2.pth\n",
      "\n",
      "-------------------------------\n",
      "\n",
      "\n",
      "-------------------------------\n",
      "  ==> Epoch - 3\n",
      "-------------------------------\n",
      "\n",
      "Train Metrics: \n",
      " Accuracy: 99.5%, Avg train loss: 0.014586\n",
      "\n",
      "Val or Test Metrics: \n",
      " Accuracy: 100.0%, Avg loss: 0.000325 \n",
      "\n",
      "Checkpoint guardado en: checkpoint_epoch_3.pth\n",
      "\n",
      "-------------------------------\n",
      "\n",
      "\n",
      "-------------------------------\n",
      "  ==> Epoch - 4\n",
      "-------------------------------\n",
      "\n",
      "Train Metrics: \n",
      " Accuracy: 100.0%, Avg train loss: 0.000573\n",
      "\n",
      "Val or Test Metrics: \n",
      " Accuracy: 100.0%, Avg loss: 0.000104 \n",
      "\n",
      "Checkpoint guardado en: checkpoint_epoch_4.pth\n",
      "\n",
      "-------------------------------\n",
      "\n",
      "¡Entrenamiento completado!\n"
     ]
    }
   ],
   "source": [
    "# Cargar el 'for loop' de entrenamiento\n",
    "\n",
    "epochs = 4\n",
    "for t in range(epochs):\n",
    "    print(f\"\\n-------------------------------\\n  ==> Epoch - {t+1}\\n-------------------------------\\n\")\n",
    "    \n",
    "    # Entrenar\n",
    "    training(train_loader, model, criterion, optimizer)\n",
    "    \n",
    "    # Validar\n",
    "    test_and_validation(val_loader, model, criterion)\n",
    "    \n",
    "    # Guardar checkpoint al final de cada época\n",
    "    save_checkpoint(f\"checkpoint_epoch_{t+1}.pth\", model, optimizer)\n",
    "    \n",
    "    print(f\"\\n-------------------------------\\n\")\n",
    "\n",
    "print(\"¡Entrenamiento completado!\")"
   ]
  },
  {
   "cell_type": "markdown",
   "id": "17b1e60a",
   "metadata": {},
   "source": [
    "### Comentario de la casilla anterior\n",
    "\n",
    "estadisticas de la ejecución:\n",
    "\n",
    "el resultado es excelente\n",
    "\n",
    "<table>\n",
    "<tr>\n",
    "  <th>Época</th>\n",
    "  <th>Train Accuracy</th>\n",
    "  <th>Train Loss</th>\n",
    "  <th>Val Accuracy</th>\n",
    "  <th>Val Loss</th>\n",
    "</tr>\n",
    "<tr>\n",
    "  <td>1</td>\n",
    "  <td>96.5%</td>\n",
    "  <td>0.173987</td>\n",
    "  <td>99.7%</td>\n",
    "  <td>0.015715</td>\n",
    "</tr>\n",
    "<tr>\n",
    "  <td>2</td>\n",
    "  <td>99.9%</td>\n",
    "  <td>0.004813</td>\n",
    "  <td>99.9%</td>\n",
    "  <td>0.002420</td>\n",
    "</tr>\n",
    "<tr>\n",
    "  <td>3</td>\n",
    "  <td>99.5%</td>\n",
    "  <td>0.014586</td>\n",
    "  <td><b>100.0%</b></td>\n",
    "  <td>0.000325</td>\n",
    "</tr>\n",
    "<tr>\n",
    "  <td>4</td>\n",
    "  <td><b>100.0%</b></td>\n",
    "  <td>0.000573</td>\n",
    "  <td><b>100.0%</b></td>\n",
    "  <td>0.000104</td>\n",
    "</tr>\n",
    "</table>\n",
    "\n",
    "\n",
    "### Consideraciones\n",
    "\n",
    "<table>\n",
    "<tr>\n",
    "<td>\n",
    "\n",
    "- Este modelo que he usado en este ejercicio, el MobileNetV3, ha dado unos resultados excepcionales. La primera época ya ha mostrado un resultado de Train Accuracy superior al 95%. Ha seguido subiendo con incremento constante hasta llegar al 100%.\n",
    "\n",
    "- El Validation Accuracy tambien ha tenido un crecimiento progresivo has llegar al 100% muy a la par con el Train.\n",
    "\n",
    "- El loss de ambos, `Train` y `Validation` tambien han mostrado un rendimiento óptimo con un decrecimiento muy estable\n",
    "\n",
    "- Estos resultados muestran que el entrenamiento no tiene `OverFitting`. Tiene una configuración muy buena, óptima en realidad.\n",
    "\n",
    "- los valores de loss tan bajos confirman una separación clara entre clses.\n",
    "\n",
    "- Este modelo demuestra ser muy eficiente con `Transfer Learning` para tareas de clasificación de imágenes con datos similare a los datos preentrenados.\n",
    "\n",
    "</td>\n",
    "</tr>\n",
    "</table>"
   ]
  },
  {
   "cell_type": "markdown",
   "id": "10d2ec78",
   "metadata": {},
   "source": [
    "--> cargar y verificar los CheckPoints"
   ]
  },
  {
   "cell_type": "code",
   "execution_count": null,
   "id": "1def5297",
   "metadata": {},
   "outputs": [
    {
     "name": "stdout",
     "output_type": "stream",
     "text": [
      "¨ ¨ ¨ ¨ ¨ ¨ ¨ ¨ ¨ ¨ ¨ ¨ ¨ ¨ ¨ ¨ ¨ ¨ ¨ ¨ ¨ ¨ ¨ ¨ ¨ ¨ ¨ ¨ ¨ ¨ ¨ ¨ ¨ ¨ ¨ ¨ ¨ ¨ ¨ ¨ ¨ ¨ ¨ ¨ ¨ ¨ ¨ ¨ ¨ ¨ ¨ ¨ ¨ ¨ ¨ ¨ ¨ ¨ ¨ ¨ \n",
      "\n"
     ]
    },
    {
     "name": "stderr",
     "output_type": "stream",
     "text": [
      "C:\\Users\\Carlos\\AppData\\Local\\Temp\\ipykernel_34648\\2944765350.py:23: FutureWarning: You are using `torch.load` with `weights_only=False` (the current default value), which uses the default pickle module implicitly. It is possible to construct malicious pickle data which will execute arbitrary code during unpickling (See https://github.com/pytorch/pytorch/blob/main/SECURITY.md#untrusted-models for more details). In a future release, the default value for `weights_only` will be flipped to `True`. This limits the functions that could be executed during unpickling. Arbitrary objects will no longer be allowed to be loaded via this mode unless they are explicitly allowlisted by the user via `torch.serialization.add_safe_globals`. We recommend you start setting `weights_only=True` for any use case where you don't have full control of the loaded file. Please open an issue on GitHub for any issues related to this experimental feature.\n",
      "  checkpoint = torch.load(path)\n"
     ]
    },
    {
     "name": "stdout",
     "output_type": "stream",
     "text": [
      "Checkpoint cargado desde: checkpoint_epoch_4.pth\n",
      "\n",
      "> > > > > > > > > > > > > > > > > > > > > > > > > > > > > > > > > > > > > > > > > > > > > > > > > > > > > > > > > > > >  + \n",
      "\n",
      "Evaluando modelo cargado ANTES del segundo entrenamiento:\n",
      "+ + + + + + + + + + + + + + + + + + + + + + + + + + + + + + + + + + + + + + + + + + + + + + + + + + + + + + + + + + + + \n",
      "\n",
      "Val or Test Metrics: \n",
      " Accuracy: 100.0%, Avg loss: 0.000104 \n",
      "\n",
      "* * * * * * * * * * * * * * * * * * * * * * * * * * * * * * * * * * * * * * * * * * * * * * * * * * * * * * * * * * * * \n",
      "\n",
      "-> loss del Epoch 4 es ==>> Avg loss: 0.000104\n"
     ]
    }
   ],
   "source": [
    "import warnings\n",
    "warnings.filterwarnings(\"ignore\", category=FutureWarning, module=\"torch\")\n",
    "\n",
    "print(\"¨\" * 60 + \"\\n\")\n",
    "model_recovered = model  # Reutilizar modelo existente (misma sesión)\n",
    "\n",
    "# Crear optimizador IGUAL al original (solo classifier.parameters)\n",
    "optimizer_recovered = torch.optim.Adam(model_recovered.classifier.parameters(), lr=0.001)\n",
    "\n",
    "# Cargar el último checkpoint\n",
    "model_recovered, optimizer_recovered = load_checkpoint(\"checkpoint_epoch_4.pth\", model_recovered, optimizer_recovered)\n",
    "\n",
    "print(f\"\\n{'> ' * 60} + \\n\")\n",
    "\n",
    "print(\"Evaluando modelo cargado ANTES del segundo entrenamiento:\")\n",
    "print(\"+ \" * 60 + \"\\n\")\n",
    "test_and_validation(val_loader, model_recovered, criterion)\n",
    "print(\"* \" * 60 + \"\\n\")\n",
    "\n",
    "print(\"-> loss del Epoch 4 es ==>> Avg loss: 0.000104\")"
   ]
  },
  {
   "cell_type": "markdown",
   "id": "79d5e262",
   "metadata": {},
   "source": [
    "!>> WARNING <<! \n",
    "\n",
    "este warning avisa de una posible vulnerabilidad de inyección de codigo malicioso.\n",
    "No supone ningún peligro ya que es mi propio checkpoint. Sería peligroso si yo lo descargara\n",
    "de internet y usara el modelo a partir de este checkpoint. Sl lsnzar el entrenamiento desde un checkpoint\n",
    "desconocido, podria estar ejecutando codigo malicioso sin saberlo\n"
   ]
  },
  {
   "cell_type": "markdown",
   "id": "d38de62a",
   "metadata": {},
   "source": [
    "--> segunda parte del entrenamiento:\n",
    "\n",
    "- continuar desde el CHECKPOINT del Epoch 4"
   ]
  },
  {
   "cell_type": "code",
   "execution_count": null,
   "id": "5e894566",
   "metadata": {},
   "outputs": [],
   "source": []
  },
  {
   "cell_type": "code",
   "execution_count": 46,
   "id": "437a3f13",
   "metadata": {},
   "outputs": [
    {
     "name": "stdout",
     "output_type": "stream",
     "text": [
      "\n",
      "-------------------------------\n",
      "  ==> Epoch - 1\n",
      "-------------------------------\n",
      "\n",
      "Train Metrics: \n",
      " Accuracy: 100.0%, Avg train loss: 0.000171\n",
      "\n",
      "Val or Test Metrics: \n",
      " Accuracy: 100.0%, Avg loss: 0.000051 \n",
      "\n",
      "Checkpoint guardado en: checkpoint_recovered_epoch_1.pth\n",
      "\n",
      "-------------------------------\n",
      "\n",
      "\n",
      "-------------------------------\n",
      "  ==> Epoch - 2\n",
      "-------------------------------\n",
      "\n",
      "Train Metrics: \n",
      " Accuracy: 100.0%, Avg train loss: 0.000526\n",
      "\n",
      "Val or Test Metrics: \n",
      " Accuracy: 100.0%, Avg loss: 0.000068 \n",
      "\n",
      "Checkpoint guardado en: checkpoint_recovered_epoch_2.pth\n",
      "\n",
      "-------------------------------\n",
      "\n",
      "\n",
      "-------------------------------\n",
      "  ==> Epoch - 3\n",
      "-------------------------------\n",
      "\n",
      "Train Metrics: \n",
      " Accuracy: 100.0%, Avg train loss: 0.000096\n",
      "\n",
      "Val or Test Metrics: \n",
      " Accuracy: 100.0%, Avg loss: 0.000034 \n",
      "\n",
      "Checkpoint guardado en: checkpoint_recovered_epoch_3.pth\n",
      "\n",
      "-------------------------------\n",
      "\n",
      "\n",
      "-------------------------------\n",
      "  ==> Epoch - 4\n",
      "-------------------------------\n",
      "\n",
      "Train Metrics: \n",
      " Accuracy: 100.0%, Avg train loss: 0.000063\n",
      "\n",
      "Val or Test Metrics: \n",
      " Accuracy: 100.0%, Avg loss: 0.000019 \n",
      "\n",
      "Checkpoint guardado en: checkpoint_recovered_epoch_4.pth\n",
      "\n",
      "-------------------------------\n",
      "\n",
      "¡Segundo entrenamiento completado!\n"
     ]
    }
   ],
   "source": [
    "# PASO 8F: Segundo entrenamiento desde checkpoint recuperado\n",
    "\n",
    "epochs = 4\n",
    "for t in range(epochs):\n",
    "    print(f\"\\n-------------------------------\\n  ==> Epoch - {t+1}\\n-------------------------------\\n\")\n",
    "    \n",
    "    # Entrenar\n",
    "    training(train_loader, model_recovered, criterion, optimizer_recovered)\n",
    "    \n",
    "    # Validar\n",
    "    test_and_validation(val_loader, model_recovered, criterion)\n",
    "    \n",
    "    # Guardar checkpoint con nomenclatura diferente\n",
    "    save_checkpoint(f\"checkpoint_recovered_epoch_{t+1}.pth\", model_recovered, optimizer_recovered)\n",
    "    \n",
    "    print(f\"\\n-------------------------------\\n\")\n",
    "\n",
    "print(\"¡Segundo entrenamiento completado!\")"
   ]
  },
  {
   "cell_type": "markdown",
   "id": "f45558ff",
   "metadata": {},
   "source": [
    "#### obervaciones del entrenamiento\n",
    "\n",
    "<table>\n",
    "<tr>\n",
    "  <th>Época</th>\n",
    "  <th>Train Accuracy</th>\n",
    "  <th>Train Loss</th>\n",
    "  <th>Val Accuracy</th>\n",
    "  <th>Val Loss</th>\n",
    "</tr>\n",
    "<tr>\n",
    "  <td>5</td>\n",
    "  <td><b>100.0%</b></td>\n",
    "  <td>0.000171</td>\n",
    "  <td><b>100.0%</b></td>\n",
    "  <td>0.000051</td>\n",
    "</tr>\n",
    "<tr>\n",
    "  <td>6</td>\n",
    "  <td><b>100.0%</b></td>\n",
    "  <td>0.000526</td>\n",
    "  <td><b>100.0%</b></td>\n",
    "  <td>0.000068</td>\n",
    "</tr>\n",
    "<tr>\n",
    "  <td>7</td>\n",
    "  <td><b>100.0%</b></td>\n",
    "  <td>0.000096</td>\n",
    "  <td><b>100.0%</b></td>\n",
    "  <td>0.000034</td>\n",
    "</tr>\n",
    "<tr>\n",
    "  <td>8</td>\n",
    "  <td><b>100.0%</b></td>\n",
    "  <td>0.000063</td>\n",
    "  <td><b>100.0%</b></td>\n",
    "  <td>0.000019</td>\n",
    "</tr>\n",
    "</table>\n",
    "\n"
   ]
  },
  {
   "cell_type": "markdown",
   "id": "4c338491",
   "metadata": {},
   "source": [
    "#### Progresión de las 8 éopcas:\n",
    "\n",
    "\n",
    "\n",
    "<table>\n",
    "<tr>\n",
    "  <th>Época</th>\n",
    "  <th>Train Accuracy</th>\n",
    "  <th>Train Loss</th>\n",
    "  <th>Val Accuracy</th>\n",
    "  <th>Val Loss</th>\n",
    "</tr>\n",
    "<tr>\n",
    "  <td>1</td>\n",
    "  <td>96.5%</td>\n",
    "  <td>0.173987</td>\n",
    "  <td>99.7%</td>\n",
    "  <td>0.015715</td>\n",
    "</tr>\n",
    "<tr>\n",
    "  <td>2</td>\n",
    "  <td>99.9%</td>\n",
    "  <td>0.004813</td>\n",
    "  <td>99.9%</td>\n",
    "  <td>0.002420</td>\n",
    "</tr>\n",
    "<tr>\n",
    "  <td>3</td>\n",
    "  <td>99.5%</td>\n",
    "  <td>0.014586</td>\n",
    "  <td><b>100.0%</b></td>\n",
    "  <td>0.000325</td>\n",
    "</tr>\n",
    "<tr>\n",
    "  <td>4</td>\n",
    "  <td><b>100.0%</b></td>\n",
    "  <td>0.000573</td>\n",
    "  <td><b>100.0%</b></td>\n",
    "  <td>0.000104</td>\n",
    "</tr>\n",
    "<tr>\n",
    "  <td>5</td>\n",
    "  <td><b>100.0%</b></td>\n",
    "  <td>0.000171</td>\n",
    "  <td><b>100.0%</b></td>\n",
    "  <td>0.000051</td>\n",
    "</tr>\n",
    "<tr>\n",
    "  <td>6</td>\n",
    "  <td><b>100.0%</b></td>\n",
    "  <td>0.000526</td>\n",
    "  <td><b>100.0%</b></td>\n",
    "  <td>0.000068</td>\n",
    "</tr>\n",
    "<tr>\n",
    "  <td>7</td>\n",
    "  <td><b>100.0%</b></td>\n",
    "  <td>0.000096</td>\n",
    "  <td><b>100.0%</b></td>\n",
    "  <td>0.000034</td>\n",
    "</tr>\n",
    "<tr>\n",
    "  <td>8</td>\n",
    "  <td><b>100.0%</b></td>\n",
    "  <td>0.000063</td>\n",
    "  <td><b>100.0%</b></td>\n",
    "  <td>0.000019</td>\n",
    "</tr>\n",
    "</table>\n",
    "\n",
    "\n",
    "### Consideraciones\n",
    "\n",
    "<table>\n",
    "<tr>\n",
    "<td>\n",
    "\n",
    "El modelo MobileNetV3, sigue dando resultados más que óptimos. El entrenamiente a partir del checkpoint ha mostrado un rendimiento inmejorable ya que tanto `Train` como `Valitadtion`\n",
    "están al 100% en cada época. El `loss` sigue teninedo un reducción excelente hasta llegar a 0.000069 para el Train loss y 0.000019 para el Val loss. \n",
    "\n",
    "Creo que lo he hecho todo de forma correcta y he utilizado un modelo realmente óptimo para la detección y reconocimiento de imágenes.\n",
    "\n",
    "</td>\n",
    "</tr>\n",
    "</table>"
   ]
  },
  {
   "cell_type": "markdown",
   "id": "2c840e7a",
   "metadata": {},
   "source": [
    "### ▶ - Análisis de métricas en test\n",
    "\n",
    "\n",
    "--> extracción de datos"
   ]
  },
  {
   "cell_type": "code",
   "execution_count": 47,
   "id": "34feb44a",
   "metadata": {},
   "outputs": [
    {
     "name": "stdout",
     "output_type": "stream",
     "text": [
      "Datos del entrenamiento:\n",
      "Épocas: [1, 2, 3, 4, 5, 6, 7, 8]\n",
      "Train Accuracy: [96.5, 99.9, 99.5, 100.0, 100.0, 100.0, 100.0, 100.0]\n",
      "Validation Accuracy: [99.7, 99.9, 100.0, 100.0, 100.0, 100.0, 100.0, 100.0]\n"
     ]
    }
   ],
   "source": [
    "# Datos extraídos de los outputs del entrenamiento\n",
    "train_accuracies = [96.5, 99.9, 99.5, 100.0, 100.0, 100.0, 100.0, 100.0]\n",
    "validation_accuracies = [99.7, 99.9, 100.0, 100.0, 100.0, 100.0, 100.0, 100.0]\n",
    "epochs_list = list(range(1, 9))  # Épocas 1-8\n",
    "\n",
    "print(\"Datos del entrenamiento:\")\n",
    "print(f\"Épocas: {epochs_list}\")\n",
    "print(f\"Train Accuracy: {train_accuracies}\")\n",
    "print(f\"Validation Accuracy: {validation_accuracies}\")"
   ]
  },
  {
   "cell_type": "code",
   "execution_count": 76,
   "id": "57444a38",
   "metadata": {},
   "outputs": [
    {
     "data": {
      "image/png": "[encoded data removed]",
      "text/plain": [
       "<Figure size 800x500 with 1 Axes>"
      ]
     },
     "metadata": {},
     "output_type": "display_data"
    }
   ],
   "source": [
    "import matplotlib.pyplot as plt\n",
    "\n",
    "def plot_comparative(epochs, train_acc, val_acc, title=\"Training vs Validation Accuracy\"):\n",
    "    plt.figure(figsize=(8, 5))\n",
    "    \n",
    "    # Plotear ambas curvas\n",
    "    plt.plot(epochs, train_acc, 'b-o', label='Training Accuracy', linewidth=1, markersize=4)\n",
    "    plt.plot(epochs, val_acc, 'm-o', label='Validation Accuracy', linewidth=1, markersize=4)\n",
    "    \n",
    "    # Configuración del gráfico\n",
    "    plt.title(title, fontsize=10, fontweight='bold')\n",
    "    plt.xlabel('Epochs', fontsize=12)\n",
    "    plt.ylabel('Accuracy (%)', fontsize=12)\n",
    "    plt.legend(fontsize=9)\n",
    "    plt.grid(True, alpha=0.4)\n",
    "    plt.ylim(94, 102)  # Rango (y) apropiado para nuestros datos\n",
    "        \n",
    "    # plt.tight_layout()\n",
    "    plt.show()\n",
    "\n",
    "# Ejecutar visualización\n",
    "plot_comparative(epochs_list, train_accuracies, validation_accuracies, \n",
    "                \"Analysis: Training vs Validation Accuracy\")"
   ]
  },
  {
   "cell_type": "code",
   "execution_count": null,
   "id": "5476e244",
   "metadata": {},
   "outputs": [
    {
     "name": "stdout",
     "output_type": "stream",
     "text": [
      "Datos de Loss del entrenamiento:\n",
      "Épocas: [1, 2, 3, 4, 5, 6, 7, 8]\n",
      "Train Loss: [0.173987, 0.004813, 0.014586, 0.000573, 0.000171, 0.000526, 9.6e-05, 6.3e-05]\n",
      "Validation Loss: [0.015715, 0.00242, 0.000325, 0.000104, 5.1e-05, 6.8e-05, 3.4e-05, 1.9e-05]\n"
     ]
    }
   ],
   "source": [
    "# Datos de Loss extraídos de los outputs del entrenamiento (8 épocas totales)\n",
    "\n",
    "train_losses = [0.173987, 0.004813, 0.014586, 0.000573, 0.000171, 0.000526, 0.000096, 0.000063]\n",
    "val_losses = [0.015715, 0.002420, 0.000325, 0.000104, 0.000051, 0.000068, 0.000034, 0.000019]\n",
    "\n",
    "print(\"Datos de Loss del entrenamiento:\")\n",
    "print(f\"Épocas: {epochs_list}\")\n",
    "print(f\"Train Loss: {train_losses}\")\n",
    "print(f\"Validation Loss: {val_losses}\")"
   ]
  },
  {
   "cell_type": "code",
   "execution_count": null,
   "id": "f9821db4",
   "metadata": {},
   "outputs": [
    {
     "data": {
      "image/png": "[encoded data removed]",
      "text/plain": [
       "<Figure size 800x500 with 1 Axes>"
      ]
     },
     "metadata": {},
     "output_type": "display_data"
    }
   ],
   "source": [
    "def plot_loss_comparative(epochs, train_loss, val_loss, title=\"Training vs Validation Loss\"):\n",
    "    plt.figure(figsize=(8, 5))\n",
    "    \n",
    "    # Plotear ambas curvas\n",
    "    plt.plot(epochs, train_loss, 'b-o', label='Training Loss', linewidth=1, markersize=4)\n",
    "    plt.plot(epochs, val_loss, 'm-o', label='Validation Loss', linewidth=1, markersize=4)\n",
    "    \n",
    "    # Configuración del gráfico\n",
    "    plt.title(title, fontsize=10, fontweight='bold')\n",
    "    plt.xlabel('Epochs', fontsize=12)\n",
    "    plt.ylabel('Loss (log scale)', fontsize=12)\n",
    "    plt.legend(fontsize=9)\n",
    "    plt.grid(True, alpha=0.4)\n",
    "    # plt.ylim(-2, 1) no funciona bien\n",
    "    plt.yscale('log')  # Escala logarítmica para loss\n",
    "        \n",
    "    # plt.tight_layout()\n",
    "    plt.show()\n",
    "\n",
    "# Ejecutar visualización de loss\n",
    "plot_loss_comparative(epochs_list, train_losses, val_losses, \n",
    "                     \"Evolucion de Loss: Training vs Validation Loss\")"
   ]
  },
  {
   "cell_type": "markdown",
   "id": "eab83fed",
   "metadata": {},
   "source": [
    "### Observaciones Finales\n",
    "\n",
    "<table>\n",
    "<tr><td>\n",
    "\n",
    "#### Como he dicho anteriormente la evolución de `Loss` es impresionante. Está a niveles muy bajos, y continua en descenso progresivo de forma estable. También el loss de Val está siempre por debajo del loss del Train y eso es otra buena señal de ser un traing óptimo, por no decir excelente.\n",
    "\n",
    "#### El `Accuracy` llega a una convergencia a partir de las épocas 2-4. El `Loss` alcanza convergencia en las últimas épocas. \n",
    "(Un dato interesante es que que cuando el ``Accuracy`` y `Loss` se estabilizan y dejan de subir o bajar. Esto nos indica que el modelo deja de aprender. Y se describe como una convergencia.)\n",
    "\n",
    "#### Parece que he acertado al escoger el modelo MobileNetV3. Poco me esperaba yo que obtendría este resultado.\n",
    "\n",
    "#### En otro ángulo, en una perspectiva más profesional, he visto que hay mas cosas como por ejemplo codigo que se puede ejecutar al final de todo este proceso, por ejemplo un test de confusión, el cual mostraría cuantas veces se confunde el modelo. Esto sería de utilidad para identificar las clases más problemáticas, analizar sesgos del modelo, etc. Pero vamos, entiendo que esto es para un estudiante de master de Deep Learning. 😉\n",
    "\n",
    "</td></tr></table>\n",
    "\n",
    "\n",
    "## Doy por terminada esta práctica 👍"
   ]
  }
 ],
 "metadata": {
  "kernelspec": {
   "display_name": ".venv",
   "language": "python",
   "name": "python3"
  },
  "language_info": {
   "codemirror_mode": {
    "name": "ipython",
    "version": 3
   },
   "file_extension": ".py",
   "mimetype": "text/x-python",
   "name": "python",
   "nbconvert_exporter": "python",
   "pygments_lexer": "ipython3",
   "version": "3.10.0"
  }
 },
 "nbformat": 4,
 "nbformat_minor": 5
}
